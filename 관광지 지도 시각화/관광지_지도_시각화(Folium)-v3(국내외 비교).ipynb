{
 "cells": [
  {
   "cell_type": "code",
   "execution_count": null,
   "source": [
    "import folium\r\n",
    "import pandas as pd\r\n",
    "# import geopandas as gpd\r\n",
    "import matplotlib.pyplot as plt"
   ],
   "outputs": [],
   "metadata": {
    "id": "ef8a86ae"
   }
  },
  {
   "cell_type": "code",
   "execution_count": null,
   "source": [
    "map1 = folium.Map(location=[37.566535,126.97796919999996],zoom_start=8,\r\n",
    "                 zoom_control=False, tiles='https://tiles.stadiamaps.com/tiles/outdoors/{z}/{x}/{y}{r}.png',\r\n",
    "                 attr='&copy; <a href=\"https://stadiamaps.com/\">Stadia Maps</a>, &copy; <a href=\"https://openmaptiles.org/\">OpenMapTiles</a> &copy; <a href=\"http://openstreetmap.org\">OpenStreetMap</a> contributors')\r\n",
    "#map1"
   ],
   "outputs": [],
   "metadata": {
    "colab": {
     "base_uri": "https://localhost:8080/",
     "height": 1000
    },
    "id": "7962a301",
    "outputId": "44664dd7-2c7a-4319-a032-fcec7242b5f1"
   }
  },
  {
   "cell_type": "markdown",
   "source": [
    "#### for colab"
   ],
   "metadata": {}
  },
  {
   "cell_type": "markdown",
   "source": [
    "### 관광지 marker cluster"
   ],
   "metadata": {
    "id": "j320b_ZTe7GB"
   }
  },
  {
   "cell_type": "code",
   "execution_count": null,
   "source": [
    "from folium.plugins import MarkerCluster\r\n",
    "mc = MarkerCluster().add_to(map1)"
   ],
   "outputs": [],
   "metadata": {
    "id": "abbf33d1"
   }
  },
  {
   "cell_type": "code",
   "execution_count": null,
   "source": [
    "data2 = data[['관광지명','위도','경도']]\r\n",
    "data2"
   ],
   "outputs": [],
   "metadata": {
    "id": "c37b4b7d"
   }
  },
  {
   "cell_type": "code",
   "execution_count": null,
   "source": [
    "data2 = data2.dropna()\r\n",
    "data2"
   ],
   "outputs": [],
   "metadata": {
    "id": "3fbda4a1"
   }
  },
  {
   "cell_type": "code",
   "execution_count": null,
   "source": [
    "leng = len(data2)"
   ],
   "outputs": [],
   "metadata": {
    "id": "b77d4ef6"
   }
  },
  {
   "cell_type": "code",
   "execution_count": null,
   "source": [
    "for i in range(leng):\r\n",
    "    folium.Marker([data2.iloc[i][1],data2.iloc[i][2]],popup=data2.iloc[i][0]).add_to(mc)"
   ],
   "outputs": [],
   "metadata": {
    "id": "78409559"
   }
  },
  {
   "cell_type": "code",
   "execution_count": null,
   "source": [
    "map1"
   ],
   "outputs": [],
   "metadata": {
    "id": "09ce5d67",
    "scrolled": true
   }
  },
  {
   "cell_type": "markdown",
   "source": [
    "# Folium 지역 경계선 구분하기"
   ],
   "metadata": {
    "id": "RZ9mRPkGfRhr"
   }
  },
  {
   "cell_type": "code",
   "execution_count": null,
   "source": [
    "#skorea-geo.json\r\n",
    "#skorea-municipalities-geo\r\n",
    "#skorea-provinces-geo"
   ],
   "outputs": [],
   "metadata": {
    "id": "zV7ax7x7giBS"
   }
  },
  {
   "cell_type": "code",
   "execution_count": null,
   "source": [
    "import json"
   ],
   "outputs": [],
   "metadata": {
    "id": "6szI3N7RlPkq"
   }
  },
  {
   "cell_type": "markdown",
   "source": [
    "### 전국 하나로"
   ],
   "metadata": {}
  },
  {
   "cell_type": "code",
   "execution_count": null,
   "source": [
    "with open('../data/skorea-geo.json',encoding = 'euc-kr') as file:\r\n",
    "    geo = file.read()\r\n",
    "    geo = json.loads(geo)\r\n",
    "    file.close()"
   ],
   "outputs": [],
   "metadata": {
    "id": "L8i3C3UMlJcm"
   }
  },
  {
   "cell_type": "code",
   "execution_count": null,
   "source": [
    "geo"
   ],
   "outputs": [],
   "metadata": {
    "id": "3ZaC5NuSlMnN"
   }
  },
  {
   "cell_type": "code",
   "execution_count": null,
   "source": [
    "folium.GeoJson(geo).add_to(map1)\r\n",
    "map1"
   ],
   "outputs": [],
   "metadata": {
    "colab": {
     "base_uri": "https://localhost:8080/",
     "height": 190
    },
    "id": "tMQADrUjldhZ",
    "outputId": "d56111b2-dfd2-48f1-f389-aa1447a38501"
   }
  },
  {
   "cell_type": "markdown",
   "source": [
    "### 시, 동 단위 세부"
   ],
   "metadata": {}
  },
  {
   "cell_type": "code",
   "execution_count": null,
   "source": [
    "with open('data/skorea-municipalities-geo.json',encoding = 'euc-kr') as file:\r\n",
    "    geo2 = file.read()\r\n",
    "    geo2 = json.loads(geo2)\r\n",
    "    file.close()"
   ],
   "outputs": [],
   "metadata": {
    "id": "11h7eBVBluf_"
   }
  },
  {
   "cell_type": "code",
   "execution_count": null,
   "source": [
    "folium.GeoJson(geo2).add_to(map1)\r\n",
    "map1"
   ],
   "outputs": [],
   "metadata": {}
  },
  {
   "cell_type": "markdown",
   "source": [
    "### 17개 광역시, 도 단위"
   ],
   "metadata": {}
  },
  {
   "cell_type": "code",
   "execution_count": null,
   "source": [
    "with open('skorea-provinces-geo.json',encoding = 'euc-kr') as file:\r\n",
    "    geo3 = file.read()\r\n",
    "    geo3 = json.loads(geo3)\r\n",
    "    file.close()"
   ],
   "outputs": [],
   "metadata": {}
  },
  {
   "cell_type": "code",
   "execution_count": null,
   "source": [
    "folium.GeoJson(geo3).add_to(map1)\r\n",
    "map1"
   ],
   "outputs": [],
   "metadata": {}
  },
  {
   "cell_type": "markdown",
   "source": [
    "### 방문객 데이터"
   ],
   "metadata": {}
  },
  {
   "cell_type": "code",
   "execution_count": null,
   "source": [
    "visit=pd.read_csv('../data/외래관광객 조사_20210729.csv')\r\n",
    "visit2 = visit.T\r\n",
    "# visit_tot=visit.iloc[3][2:]\r\n",
    "# visit_tot\r\n",
    "visit2"
   ],
   "outputs": [],
   "metadata": {}
  },
  {
   "cell_type": "code",
   "execution_count": null,
   "source": [
    "visit2.info()"
   ],
   "outputs": [],
   "metadata": {}
  },
  {
   "cell_type": "markdown",
   "source": [
    "### 지도에 방문객 수 표시"
   ],
   "metadata": {}
  },
  {
   "cell_type": "code",
   "execution_count": null,
   "source": [
    "geo3.keys()"
   ],
   "outputs": [],
   "metadata": {}
  },
  {
   "cell_type": "code",
   "execution_count": null,
   "source": [
    "geo3"
   ],
   "outputs": [],
   "metadata": {}
  },
  {
   "cell_type": "code",
   "execution_count": null,
   "source": [
    "len(geo3['features'])"
   ],
   "outputs": [],
   "metadata": {}
  },
  {
   "cell_type": "code",
   "execution_count": null,
   "source": [
    "for i in range(16):\r\n",
    "    print(geo3['features'][i]['properties'][\"NAME_1\"] )"
   ],
   "outputs": [],
   "metadata": {}
  },
  {
   "cell_type": "markdown",
   "source": [
    "#### 세종 데이터가 지역 정보에 없다 -> 데이터에서도 제거"
   ],
   "metadata": {}
  },
  {
   "cell_type": "code",
   "execution_count": null,
   "source": [
    "# 세종 데이터 제거\r\n",
    "visit2.drop(index='세종', inplace=True)\r\n",
    "\r\n",
    "visit2.rename(columns={3: \"전체방문객\"},inplace=True)\r\n",
    "visit2= visit2[2:]\r\n",
    "visit2['지역']=['Seoul','Incheon','Daejeon','Daegu', 'Busan','Gwangju', 'Ulsan', \\\r\n",
    "              'Gyeonggi-do','Gangwon-do', 'Chungcheongbuk-do','Chungcheongnam-do','Jeollabuk-do', 'Jeollanam-do', \\\r\n",
    "             'Gyeongsangbuk-do','Gyeongsangnam-do', 'Jeju']\r\n",
    "visit2"
   ],
   "outputs": [],
   "metadata": {}
  },
  {
   "cell_type": "markdown",
   "source": [
    "데이터 형변환"
   ],
   "metadata": {}
  },
  {
   "cell_type": "code",
   "execution_count": null,
   "source": [
    "visit2= visit2[[\"전체방문객\",\"지역\"]]\r\n",
    "\r\n",
    "visit2 = visit2.astype({'전체방문객': 'float32'})\r\n",
    "\r\n",
    "visit2['전체방문객']"
   ],
   "outputs": [],
   "metadata": {}
  },
  {
   "cell_type": "markdown",
   "source": [
    "#### log scaling"
   ],
   "metadata": {}
  },
  {
   "cell_type": "code",
   "execution_count": null,
   "source": [
    "import math\r\n",
    "import numpy as np"
   ],
   "outputs": [],
   "metadata": {}
  },
  {
   "cell_type": "code",
   "execution_count": null,
   "source": [
    "np.log2(4)"
   ],
   "outputs": [],
   "metadata": {}
  },
  {
   "cell_type": "code",
   "execution_count": null,
   "source": [
    "visit2['방문객2']=np.log2(visit2['전체방문객'])\r\n",
    "visit2['방문객10']=np.log10(visit2['전체방문객'])"
   ],
   "outputs": [],
   "metadata": {}
  },
  {
   "cell_type": "code",
   "execution_count": null,
   "source": [
    "visit2"
   ],
   "outputs": [],
   "metadata": {}
  },
  {
   "cell_type": "code",
   "execution_count": null,
   "source": [
    "choro = folium.Choropleth(geo_data = geo3,\r\n",
    "                 data = visit2,\r\n",
    "                 columns = [\"지역\",\"전체방문객\"],\r\n",
    "                 key_on = 'feature.properties.NAME_1',\r\n",
    "                 legend_name='해외 방문객 비율',\r\n",
    "                 fill_color='BuPu',\r\n",
    "                 highlight =True).add_to(map1)"
   ],
   "outputs": [],
   "metadata": {}
  },
  {
   "cell_type": "code",
   "execution_count": null,
   "source": [
    "choro.geojson.add_child(folium.features.GeoJsonTooltip(['NAME_1'], labels=False))"
   ],
   "outputs": [],
   "metadata": {}
  },
  {
   "cell_type": "code",
   "execution_count": null,
   "source": [
    "map1"
   ],
   "outputs": [],
   "metadata": {}
  },
  {
   "cell_type": "markdown",
   "source": [
    "#### 지역별 관광객 편차가 커서 로그 스케일링 해서 시각화"
   ],
   "metadata": {}
  },
  {
   "cell_type": "code",
   "execution_count": null,
   "source": [
    "choro = folium.Choropleth(geo_data = geo3,\r\n",
    "                 data = visit2,\r\n",
    "                 columns = [\"지역\",\"방문객2\"],\r\n",
    "                 key_on = 'feature.properties.NAME_1',\r\n",
    "                 legend_name='해외 방문객 비율(log)',\r\n",
    "                 fill_color='BuPu',\r\n",
    "                 highlight =True).add_to(map1)\r\n",
    "choro.geojson.add_child(folium.features.GeoJsonTooltip(['NAME_1'], labels=False))\r\n",
    "map1"
   ],
   "outputs": [],
   "metadata": {}
  },
  {
   "cell_type": "markdown",
   "source": [
    "### 국내 방문객 수 시각화"
   ],
   "metadata": {}
  },
  {
   "cell_type": "code",
   "execution_count": null,
   "source": [
    "#국민여행조사 _ 국내여행_20210730\r\n",
    "visit_in=pd.read_csv('국민여행조사 _ 국내여행_20210730.csv')\r\n",
    "visit_in2 = visit_in.T\r\n",
    "# visit_tot=visit.iloc[3][2:]\r\n",
    "# visit_tot\r\n",
    "visit_in2"
   ],
   "outputs": [],
   "metadata": {}
  },
  {
   "cell_type": "code",
   "execution_count": null,
   "source": [
    "visit_in2.drop(index='세종', inplace=True)\r\n",
    "\r\n",
    "visit_in2.rename(columns={3: \"전체방문객\"},inplace=True)\r\n",
    "visit_in2= visit_in2[2:]\r\n",
    "visit_in2['지역']=['Seoul', 'Busan','Daegu','Incheon','Gwangju','Daejeon','Ulsan', \\\r\n",
    "              'Gyeonggi-do','Gangwon-do', 'Chungcheongbuk-do','Chungcheongnam-do','Jeollabuk-do', 'Jeollanam-do', \\\r\n",
    "             'Gyeongsangbuk-do','Gyeongsangnam-do', 'Jeju']\r\n",
    "visit_in2"
   ],
   "outputs": [],
   "metadata": {}
  },
  {
   "cell_type": "code",
   "execution_count": null,
   "source": [
    "visit_in2= visit_in2[[\"전체방문객\",\"지역\"]]\r\n",
    "\r\n",
    "visit_in2 = visit_in2.astype({'전체방문객': 'float32'})\r\n",
    "\r\n",
    "visit_in2['전체방문객']"
   ],
   "outputs": [],
   "metadata": {}
  },
  {
   "cell_type": "code",
   "execution_count": null,
   "source": [
    "visit_in2"
   ],
   "outputs": [],
   "metadata": {}
  },
  {
   "cell_type": "code",
   "execution_count": null,
   "source": [
    "choro = folium.Choropleth(geo_data = geo3,\r\n",
    "                 data = visit_in2,\r\n",
    "                 columns = [\"지역\",\"전체방문객\"],\r\n",
    "                 key_on = 'feature.properties.NAME_1',\r\n",
    "                 legend_name='국내 방문객 비율',\r\n",
    "                 fill_color='BuPu',\r\n",
    "                 highlight =True).add_to(map1)\r\n",
    "choro.geojson.add_child(folium.features.GeoJsonTooltip(['NAME_1'], labels=False))\r\n",
    "map1"
   ],
   "outputs": [],
   "metadata": {}
  },
  {
   "cell_type": "markdown",
   "source": [
    "### 국내외 방문객수 비율 시각화"
   ],
   "metadata": {}
  },
  {
   "cell_type": "code",
   "execution_count": null,
   "source": [
    "#차이\r\n",
    "visit_all= visit_in2\r\n",
    "visit_all['국내외 방문객비율차'] =visit_in2['전체방문객']-visit2['전체방문객']\r\n",
    "visit_all"
   ],
   "outputs": [],
   "metadata": {}
  },
  {
   "cell_type": "code",
   "execution_count": null,
   "source": [
    "#차이\r\n",
    "visit_all= visit_in2\r\n",
    "visit_all['국내외 방문객비례'] =visit_in2['전체방문객']/visit2['전체방문객']# 국내 / 외국인\r\n",
    "visit_all['국내외 방문객비례(로그)'] =np.log2(visit_in2['전체방문객']/visit2['전체방문객'])\r\n",
    "visit_all"
   ],
   "outputs": [],
   "metadata": {}
  },
  {
   "cell_type": "code",
   "execution_count": null,
   "source": [
    "visit_all.sort_values(by=['국내외 방문객비례'], axis=0, ascending=False)"
   ],
   "outputs": [],
   "metadata": {}
  },
  {
   "cell_type": "code",
   "execution_count": null,
   "source": [
    "choro = folium.Choropleth(geo_data = geo3,\r\n",
    "                 data = visit_all,\r\n",
    "                 columns = [\"지역\",\"국내외 방문객비례(로그)\"],\r\n",
    "                 key_on = 'feature.properties.NAME_1',\r\n",
    "                 legend_name='국내외 방문객 비례(로그2)',\r\n",
    "                 fill_color='BuPu',\r\n",
    "                 highlight =True).add_to(map1)\r\n",
    "choro.geojson.add_child(folium.features.GeoJsonTooltip(['NAME_1'], labels=False))\r\n",
    "map1"
   ],
   "outputs": [],
   "metadata": {}
  },
  {
   "cell_type": "code",
   "execution_count": null,
   "source": [],
   "outputs": [],
   "metadata": {}
  }
 ],
 "metadata": {
  "colab": {
   "collapsed_sections": [
    "j320b_ZTe7GB"
   ],
   "name": "관광지 지도 시각화.ipynb",
   "provenance": []
  },
  "kernelspec": {
   "display_name": "Python 3",
   "language": "python",
   "name": "python3"
  },
  "language_info": {
   "codemirror_mode": {
    "name": "ipython",
    "version": 3
   },
   "file_extension": ".py",
   "mimetype": "text/x-python",
   "name": "python",
   "nbconvert_exporter": "python",
   "pygments_lexer": "ipython3",
   "version": "3.8.10"
  }
 },
 "nbformat": 4,
 "nbformat_minor": 5
}