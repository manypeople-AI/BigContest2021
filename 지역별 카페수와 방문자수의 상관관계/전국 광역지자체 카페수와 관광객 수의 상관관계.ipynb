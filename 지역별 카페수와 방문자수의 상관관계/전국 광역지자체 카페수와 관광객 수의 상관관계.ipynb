{
 "cells": [
  {
   "cell_type": "markdown",
   "id": "485762a5",
   "metadata": {},
   "source": [
    "# <전국 광역지자체 카페수와 관광객 수의 상관관계>"
   ]
  },
  {
   "cell_type": "markdown",
   "id": "76cc0732",
   "metadata": {},
   "source": [
    "광역지자체별로 카페수와 관광객 수의 상관관계를 분석해 본 결과 유의미한 결과가 나오지 않았다."
   ]
  },
  {
   "cell_type": "code",
   "execution_count": 1,
   "id": "b4c158fb",
   "metadata": {},
   "outputs": [],
   "source": [
    "import pandas as pd\n",
    "import numpy as np\n",
    "from pandas import DataFrame as df\n",
    "import matplotlib.pyplot as plt\n",
    "import seaborn as sns\n",
    " \n",
    "# 한글 폰트 사용을 위해서 세팅\n",
    "from matplotlib import font_manager, rc\n",
    "font_path = \"C:/Windows/Fonts/NGULIM.TTF\"\n",
    "font = font_manager.FontProperties(fname=font_path).get_name()\n",
    "rc('font', family=font)"
   ]
  },
  {
   "cell_type": "markdown",
   "id": "2f3d1df1",
   "metadata": {},
   "source": [
    "## 전국 데이터 활용"
   ]
  },
  {
   "cell_type": "markdown",
   "id": "6912703b",
   "metadata": {},
   "source": [
    "### 방문자수"
   ]
  },
  {
   "cell_type": "code",
   "execution_count": 2,
   "id": "6690d95a",
   "metadata": {},
   "outputs": [],
   "source": [
    "#방문자수\n",
    "방문객 = pd.read_csv(\"../data/광역지자체 방문자수_20210813.csv\", names=['지역','구분','2018','2019','2020'], skiprows=lambda x: x%6 in [0,1,2,3,5])"
   ]
  },
  {
   "cell_type": "code",
   "execution_count": 3,
   "id": "461b2cd7",
   "metadata": {},
   "outputs": [
    {
     "data": {
      "text/html": [
       "<div>\n",
       "<style scoped>\n",
       "    .dataframe tbody tr th:only-of-type {\n",
       "        vertical-align: middle;\n",
       "    }\n",
       "\n",
       "    .dataframe tbody tr th {\n",
       "        vertical-align: top;\n",
       "    }\n",
       "\n",
       "    .dataframe thead th {\n",
       "        text-align: right;\n",
       "    }\n",
       "</style>\n",
       "<table border=\"1\" class=\"dataframe\">\n",
       "  <thead>\n",
       "    <tr style=\"text-align: right;\">\n",
       "      <th></th>\n",
       "      <th>지역</th>\n",
       "      <th>구분</th>\n",
       "      <th>2018</th>\n",
       "      <th>2019</th>\n",
       "      <th>2020</th>\n",
       "    </tr>\n",
       "  </thead>\n",
       "  <tbody>\n",
       "    <tr>\n",
       "      <th>0</th>\n",
       "      <td>전국</td>\n",
       "      <td>외부방문자(b+c)</td>\n",
       "      <td>2,787,477,829</td>\n",
       "      <td>3,019,812,007</td>\n",
       "      <td>2,481,383,213</td>\n",
       "    </tr>\n",
       "    <tr>\n",
       "      <th>1</th>\n",
       "      <td>서울특별시</td>\n",
       "      <td>외부방문자(b+c)</td>\n",
       "      <td>606,282,720</td>\n",
       "      <td>676,239,448</td>\n",
       "      <td>487,262,130</td>\n",
       "    </tr>\n",
       "    <tr>\n",
       "      <th>2</th>\n",
       "      <td>부산광역시</td>\n",
       "      <td>외부방문자(b+c)</td>\n",
       "      <td>149,628,499</td>\n",
       "      <td>154,956,548</td>\n",
       "      <td>125,665,298</td>\n",
       "    </tr>\n",
       "    <tr>\n",
       "      <th>3</th>\n",
       "      <td>대구광역시</td>\n",
       "      <td>외부방문자(b+c)</td>\n",
       "      <td>105,117,110</td>\n",
       "      <td>107,487,542</td>\n",
       "      <td>86,421,703</td>\n",
       "    </tr>\n",
       "    <tr>\n",
       "      <th>4</th>\n",
       "      <td>인천광역시</td>\n",
       "      <td>외부방문자(b+c)</td>\n",
       "      <td>159,550,161</td>\n",
       "      <td>186,061,142</td>\n",
       "      <td>138,188,309</td>\n",
       "    </tr>\n",
       "    <tr>\n",
       "      <th>5</th>\n",
       "      <td>광주광역시</td>\n",
       "      <td>외부방문자(b+c)</td>\n",
       "      <td>63,837,307</td>\n",
       "      <td>66,038,784</td>\n",
       "      <td>56,735,024</td>\n",
       "    </tr>\n",
       "    <tr>\n",
       "      <th>6</th>\n",
       "      <td>대전광역시</td>\n",
       "      <td>외부방문자(b+c)</td>\n",
       "      <td>82,585,850</td>\n",
       "      <td>83,628,100</td>\n",
       "      <td>69,619,942</td>\n",
       "    </tr>\n",
       "    <tr>\n",
       "      <th>7</th>\n",
       "      <td>울산광역시</td>\n",
       "      <td>외부방문자(b+c)</td>\n",
       "      <td>46,433,222</td>\n",
       "      <td>48,862,667</td>\n",
       "      <td>43,535,032</td>\n",
       "    </tr>\n",
       "    <tr>\n",
       "      <th>8</th>\n",
       "      <td>세종특별자치시</td>\n",
       "      <td>외부방문자(b+c)</td>\n",
       "      <td>23,109,587</td>\n",
       "      <td>25,285,404</td>\n",
       "      <td>23,963,959</td>\n",
       "    </tr>\n",
       "    <tr>\n",
       "      <th>9</th>\n",
       "      <td>경기도</td>\n",
       "      <td>외부방문자(b+c)</td>\n",
       "      <td>591,259,444</td>\n",
       "      <td>664,749,407</td>\n",
       "      <td>551,691,057</td>\n",
       "    </tr>\n",
       "    <tr>\n",
       "      <th>10</th>\n",
       "      <td>강원도</td>\n",
       "      <td>외부방문자(b+c)</td>\n",
       "      <td>135,219,733</td>\n",
       "      <td>145,612,023</td>\n",
       "      <td>131,441,930</td>\n",
       "    </tr>\n",
       "    <tr>\n",
       "      <th>11</th>\n",
       "      <td>충청북도</td>\n",
       "      <td>외부방문자(b+c)</td>\n",
       "      <td>102,455,188</td>\n",
       "      <td>105,848,957</td>\n",
       "      <td>93,555,464</td>\n",
       "    </tr>\n",
       "    <tr>\n",
       "      <th>12</th>\n",
       "      <td>충청남도</td>\n",
       "      <td>외부방문자(b+c)</td>\n",
       "      <td>149,123,906</td>\n",
       "      <td>156,262,000</td>\n",
       "      <td>138,812,856</td>\n",
       "    </tr>\n",
       "    <tr>\n",
       "      <th>13</th>\n",
       "      <td>전라북도</td>\n",
       "      <td>외부방문자(b+c)</td>\n",
       "      <td>89,813,652</td>\n",
       "      <td>93,066,716</td>\n",
       "      <td>84,003,436</td>\n",
       "    </tr>\n",
       "    <tr>\n",
       "      <th>14</th>\n",
       "      <td>전라남도</td>\n",
       "      <td>외부방문자(b+c)</td>\n",
       "      <td>112,787,550</td>\n",
       "      <td>119,694,029</td>\n",
       "      <td>110,790,637</td>\n",
       "    </tr>\n",
       "    <tr>\n",
       "      <th>15</th>\n",
       "      <td>경상북도</td>\n",
       "      <td>외부방문자(b+c)</td>\n",
       "      <td>166,970,809</td>\n",
       "      <td>173,737,828</td>\n",
       "      <td>152,954,702</td>\n",
       "    </tr>\n",
       "    <tr>\n",
       "      <th>16</th>\n",
       "      <td>경상남도</td>\n",
       "      <td>외부방문자(b+c)</td>\n",
       "      <td>148,321,065</td>\n",
       "      <td>153,464,716</td>\n",
       "      <td>139,754,766</td>\n",
       "    </tr>\n",
       "    <tr>\n",
       "      <th>17</th>\n",
       "      <td>제주특별자치도</td>\n",
       "      <td>외부방문자(b+c)</td>\n",
       "      <td>54,982,027</td>\n",
       "      <td>58,816,696</td>\n",
       "      <td>46,986,969</td>\n",
       "    </tr>\n",
       "  </tbody>\n",
       "</table>\n",
       "</div>"
      ],
      "text/plain": [
       "         지역          구분           2018           2019           2020\n",
       "0        전국  외부방문자(b+c)  2,787,477,829  3,019,812,007  2,481,383,213\n",
       "1     서울특별시  외부방문자(b+c)    606,282,720    676,239,448    487,262,130\n",
       "2     부산광역시  외부방문자(b+c)    149,628,499    154,956,548    125,665,298\n",
       "3     대구광역시  외부방문자(b+c)    105,117,110    107,487,542     86,421,703\n",
       "4     인천광역시  외부방문자(b+c)    159,550,161    186,061,142    138,188,309\n",
       "5     광주광역시  외부방문자(b+c)     63,837,307     66,038,784     56,735,024\n",
       "6     대전광역시  외부방문자(b+c)     82,585,850     83,628,100     69,619,942\n",
       "7     울산광역시  외부방문자(b+c)     46,433,222     48,862,667     43,535,032\n",
       "8   세종특별자치시  외부방문자(b+c)     23,109,587     25,285,404     23,963,959\n",
       "9       경기도  외부방문자(b+c)    591,259,444    664,749,407    551,691,057\n",
       "10      강원도  외부방문자(b+c)    135,219,733    145,612,023    131,441,930\n",
       "11     충청북도  외부방문자(b+c)    102,455,188    105,848,957     93,555,464\n",
       "12     충청남도  외부방문자(b+c)    149,123,906    156,262,000    138,812,856\n",
       "13     전라북도  외부방문자(b+c)     89,813,652     93,066,716     84,003,436\n",
       "14     전라남도  외부방문자(b+c)    112,787,550    119,694,029    110,790,637\n",
       "15     경상북도  외부방문자(b+c)    166,970,809    173,737,828    152,954,702\n",
       "16     경상남도  외부방문자(b+c)    148,321,065    153,464,716    139,754,766\n",
       "17  제주특별자치도  외부방문자(b+c)     54,982,027     58,816,696     46,986,969"
      ]
     },
     "execution_count": 3,
     "metadata": {},
     "output_type": "execute_result"
    }
   ],
   "source": [
    "방문객"
   ]
  },
  {
   "cell_type": "code",
   "execution_count": 4,
   "id": "b2db49a1",
   "metadata": {},
   "outputs": [],
   "source": [
    "방문자수=방문객[['2019','2020']]\n",
    "방문자수.index=방문객['지역']\n",
    "방문자수=방문자수[1:]"
   ]
  },
  {
   "cell_type": "code",
   "execution_count": 5,
   "id": "572e4eef",
   "metadata": {},
   "outputs": [],
   "source": [
    "for i in range(len(방문자수)):\n",
    "    #print(방문자수.iloc[i][0])\n",
    "    방문자수.iloc[i][0] = int(방문자수.iloc[i][0].strip().replace(',', ''))\n",
    "    방문자수.iloc[i][1] = int(방문자수.iloc[i][1].strip().replace(',', ''))"
   ]
  },
  {
   "cell_type": "code",
   "execution_count": 6,
   "id": "8eac59d3",
   "metadata": {},
   "outputs": [],
   "source": [
    "방문자수 = 방문자수.astype('int64')\n",
    "#방문자수.info()"
   ]
  },
  {
   "cell_type": "markdown",
   "id": "eeec00c5",
   "metadata": {},
   "source": [
    "## 인구데이터"
   ]
  },
  {
   "cell_type": "code",
   "execution_count": 7,
   "id": "3bfb9ffb",
   "metadata": {},
   "outputs": [],
   "source": [
    "인구 = pd.read_csv(\"../data/행정구역_시군구_별__성별_인구수_2019.csv\", encoding='cp949', index_col='행정구역(시군구)별',skiprows=1)\n",
    "인구=인구[1:]\n",
    "총인구19=인구['총인구수 (명)']"
   ]
  },
  {
   "cell_type": "code",
   "execution_count": 8,
   "id": "a2d222e8",
   "metadata": {},
   "outputs": [],
   "source": [
    "인구 = pd.read_csv(\"../data/행정구역_시군구_별__성별_인구수_2020.csv\", encoding='cp949', index_col='행정구역(시군구)별',skiprows=1)\n",
    "인구=인구[1:]\n",
    "총인구20=인구['총인구수 (명)']"
   ]
  },
  {
   "cell_type": "markdown",
   "id": "4779ac3e",
   "metadata": {},
   "source": [
    "## 카페수"
   ]
  },
  {
   "cell_type": "code",
   "execution_count": 9,
   "id": "8ce25cd1",
   "metadata": {},
   "outputs": [],
   "source": [
    "광역시도 = ['서울', '부산','대구','인천','광주','대전','울산','세종','경기','강원','충북','충남','전북','전남','경북','경남','제주']"
   ]
  },
  {
   "cell_type": "code",
   "execution_count": 10,
   "id": "6aec191c",
   "metadata": {},
   "outputs": [],
   "source": [
    "filenames=[]\n",
    "for x in 광역시도:\n",
    "    string = \"../data/소상공인시장진흥공단_상가(상권)정보_20210630/소상공인시장진흥공단_상가(상권)정보_\"+x+\"_202106.csv\"\n",
    "    filenames.append(string)"
   ]
  },
  {
   "cell_type": "code",
   "execution_count": 11,
   "id": "995458a8",
   "metadata": {},
   "outputs": [
    {
     "name": "stderr",
     "output_type": "stream",
     "text": [
      "C:\\Users\\scarl\\anaconda3\\lib\\site-packages\\IPython\\core\\interactiveshell.py:3165: DtypeWarning: Columns (35) have mixed types.Specify dtype option on import or set low_memory=False.\n",
      "  has_raised = await self.run_ast_nodes(code_ast.body, cell_name,\n"
     ]
    }
   ],
   "source": [
    "카페수=[]\n",
    "for i,x in enumerate(광역시도):\n",
    "    data = pd.read_csv(filenames[i])\n",
    "    cafe = data[data['상권업종소분류명']=='커피전문점/카페/다방']\n",
    "    카페수.append(len(cafe))"
   ]
  },
  {
   "cell_type": "code",
   "execution_count": 12,
   "id": "591826d3",
   "metadata": {},
   "outputs": [],
   "source": [
    "지역별카페수 = pd.DataFrame(카페수, index=인구.index, columns=['카페개수'])"
   ]
  },
  {
   "cell_type": "code",
   "execution_count": 13,
   "id": "6137e523",
   "metadata": {},
   "outputs": [],
   "source": [
    "#지역별카페수.info()"
   ]
  },
  {
   "cell_type": "markdown",
   "id": "3468265f",
   "metadata": {},
   "source": [
    "## 세가지 데이터 합치기"
   ]
  },
  {
   "cell_type": "code",
   "execution_count": 14,
   "id": "a66c4543",
   "metadata": {},
   "outputs": [
    {
     "data": {
      "text/html": [
       "<div>\n",
       "<style scoped>\n",
       "    .dataframe tbody tr th:only-of-type {\n",
       "        vertical-align: middle;\n",
       "    }\n",
       "\n",
       "    .dataframe tbody tr th {\n",
       "        vertical-align: top;\n",
       "    }\n",
       "\n",
       "    .dataframe thead th {\n",
       "        text-align: right;\n",
       "    }\n",
       "</style>\n",
       "<table border=\"1\" class=\"dataframe\">\n",
       "  <thead>\n",
       "    <tr style=\"text-align: right;\">\n",
       "      <th></th>\n",
       "      <th>카페개수(21)</th>\n",
       "      <th>방문자수(19)</th>\n",
       "      <th>방문자수(20)</th>\n",
       "      <th>인구수(19)</th>\n",
       "      <th>인구수(20)</th>\n",
       "    </tr>\n",
       "  </thead>\n",
       "  <tbody>\n",
       "    <tr>\n",
       "      <th>서울특별시</th>\n",
       "      <td>20484</td>\n",
       "      <td>676239448</td>\n",
       "      <td>487262130</td>\n",
       "      <td>9729107</td>\n",
       "      <td>9668465</td>\n",
       "    </tr>\n",
       "    <tr>\n",
       "      <th>부산광역시</th>\n",
       "      <td>6091</td>\n",
       "      <td>154956548</td>\n",
       "      <td>125665298</td>\n",
       "      <td>3413841</td>\n",
       "      <td>3391946</td>\n",
       "    </tr>\n",
       "    <tr>\n",
       "      <th>대구광역시</th>\n",
       "      <td>5156</td>\n",
       "      <td>107487542</td>\n",
       "      <td>86421703</td>\n",
       "      <td>2438031</td>\n",
       "      <td>2418346</td>\n",
       "    </tr>\n",
       "    <tr>\n",
       "      <th>인천광역시</th>\n",
       "      <td>5099</td>\n",
       "      <td>186061142</td>\n",
       "      <td>138188309</td>\n",
       "      <td>2957026</td>\n",
       "      <td>2942828</td>\n",
       "    </tr>\n",
       "    <tr>\n",
       "      <th>광주광역시</th>\n",
       "      <td>3069</td>\n",
       "      <td>66038784</td>\n",
       "      <td>56735024</td>\n",
       "      <td>1456468</td>\n",
       "      <td>1450062</td>\n",
       "    </tr>\n",
       "    <tr>\n",
       "      <th>대전광역시</th>\n",
       "      <td>3220</td>\n",
       "      <td>83628100</td>\n",
       "      <td>69619942</td>\n",
       "      <td>1474870</td>\n",
       "      <td>1463882</td>\n",
       "    </tr>\n",
       "    <tr>\n",
       "      <th>울산광역시</th>\n",
       "      <td>2206</td>\n",
       "      <td>48862667</td>\n",
       "      <td>43535032</td>\n",
       "      <td>1148019</td>\n",
       "      <td>1136017</td>\n",
       "    </tr>\n",
       "    <tr>\n",
       "      <th>세종특별자치시</th>\n",
       "      <td>655</td>\n",
       "      <td>25285404</td>\n",
       "      <td>23963959</td>\n",
       "      <td>340575</td>\n",
       "      <td>355831</td>\n",
       "    </tr>\n",
       "    <tr>\n",
       "      <th>경기도</th>\n",
       "      <td>24065</td>\n",
       "      <td>664749407</td>\n",
       "      <td>551691057</td>\n",
       "      <td>13239666</td>\n",
       "      <td>13427014</td>\n",
       "    </tr>\n",
       "    <tr>\n",
       "      <th>강원도</th>\n",
       "      <td>4474</td>\n",
       "      <td>145612023</td>\n",
       "      <td>131441930</td>\n",
       "      <td>1541502</td>\n",
       "      <td>1542840</td>\n",
       "    </tr>\n",
       "    <tr>\n",
       "      <th>충청북도</th>\n",
       "      <td>3175</td>\n",
       "      <td>105848957</td>\n",
       "      <td>93555464</td>\n",
       "      <td>1600007</td>\n",
       "      <td>1600837</td>\n",
       "    </tr>\n",
       "    <tr>\n",
       "      <th>충청남도</th>\n",
       "      <td>4701</td>\n",
       "      <td>156262000</td>\n",
       "      <td>138812856</td>\n",
       "      <td>2123709</td>\n",
       "      <td>2121029</td>\n",
       "    </tr>\n",
       "    <tr>\n",
       "      <th>전라북도</th>\n",
       "      <td>3979</td>\n",
       "      <td>93066716</td>\n",
       "      <td>84003436</td>\n",
       "      <td>1818917</td>\n",
       "      <td>1804104</td>\n",
       "    </tr>\n",
       "    <tr>\n",
       "      <th>전라남도</th>\n",
       "      <td>4038</td>\n",
       "      <td>119694029</td>\n",
       "      <td>110790637</td>\n",
       "      <td>1868745</td>\n",
       "      <td>1851549</td>\n",
       "    </tr>\n",
       "    <tr>\n",
       "      <th>경상북도</th>\n",
       "      <td>6337</td>\n",
       "      <td>173737828</td>\n",
       "      <td>152954702</td>\n",
       "      <td>2665836</td>\n",
       "      <td>2639422</td>\n",
       "    </tr>\n",
       "    <tr>\n",
       "      <th>경상남도</th>\n",
       "      <td>7164</td>\n",
       "      <td>153464716</td>\n",
       "      <td>139754766</td>\n",
       "      <td>3362553</td>\n",
       "      <td>3340216</td>\n",
       "    </tr>\n",
       "    <tr>\n",
       "      <th>제주특별자치도</th>\n",
       "      <td>2800</td>\n",
       "      <td>58816696</td>\n",
       "      <td>46986969</td>\n",
       "      <td>670989</td>\n",
       "      <td>674635</td>\n",
       "    </tr>\n",
       "  </tbody>\n",
       "</table>\n",
       "</div>"
      ],
      "text/plain": [
       "         카페개수(21)   방문자수(19)   방문자수(20)   인구수(19)   인구수(20)\n",
       "서울특별시       20484  676239448  487262130   9729107   9668465\n",
       "부산광역시        6091  154956548  125665298   3413841   3391946\n",
       "대구광역시        5156  107487542   86421703   2438031   2418346\n",
       "인천광역시        5099  186061142  138188309   2957026   2942828\n",
       "광주광역시        3069   66038784   56735024   1456468   1450062\n",
       "대전광역시        3220   83628100   69619942   1474870   1463882\n",
       "울산광역시        2206   48862667   43535032   1148019   1136017\n",
       "세종특별자치시       655   25285404   23963959    340575    355831\n",
       "경기도         24065  664749407  551691057  13239666  13427014\n",
       "강원도          4474  145612023  131441930   1541502   1542840\n",
       "충청북도         3175  105848957   93555464   1600007   1600837\n",
       "충청남도         4701  156262000  138812856   2123709   2121029\n",
       "전라북도         3979   93066716   84003436   1818917   1804104\n",
       "전라남도         4038  119694029  110790637   1868745   1851549\n",
       "경상북도         6337  173737828  152954702   2665836   2639422\n",
       "경상남도         7164  153464716  139754766   3362553   3340216\n",
       "제주특별자치도      2800   58816696   46986969    670989    674635"
      ]
     },
     "execution_count": 14,
     "metadata": {},
     "output_type": "execute_result"
    }
   ],
   "source": [
    "최종데이터 = pd.concat([지역별카페수, 방문자수, 총인구19, 총인구20], axis=1,join='inner')\n",
    "최종데이터.columns=['카페개수(21)', '방문자수(19)','방문자수(20)','인구수(19)','인구수(20)']\n",
    "최종데이터"
   ]
  },
  {
   "cell_type": "code",
   "execution_count": 15,
   "id": "ddbfb41f",
   "metadata": {
    "scrolled": true
   },
   "outputs": [
    {
     "data": {
      "text/html": [
       "<div>\n",
       "<style scoped>\n",
       "    .dataframe tbody tr th:only-of-type {\n",
       "        vertical-align: middle;\n",
       "    }\n",
       "\n",
       "    .dataframe tbody tr th {\n",
       "        vertical-align: top;\n",
       "    }\n",
       "\n",
       "    .dataframe thead th {\n",
       "        text-align: right;\n",
       "    }\n",
       "</style>\n",
       "<table border=\"1\" class=\"dataframe\">\n",
       "  <thead>\n",
       "    <tr style=\"text-align: right;\">\n",
       "      <th></th>\n",
       "      <th>카페개수(21)</th>\n",
       "      <th>방문자수(19)</th>\n",
       "      <th>방문자수(20)</th>\n",
       "      <th>인구수(19)</th>\n",
       "      <th>인구수(20)</th>\n",
       "    </tr>\n",
       "  </thead>\n",
       "  <tbody>\n",
       "    <tr>\n",
       "      <th>카페개수(21)</th>\n",
       "      <td>1.000000</td>\n",
       "      <td>0.985994</td>\n",
       "      <td>0.991544</td>\n",
       "      <td>0.992176</td>\n",
       "      <td>0.991177</td>\n",
       "    </tr>\n",
       "    <tr>\n",
       "      <th>방문자수(19)</th>\n",
       "      <td>0.985994</td>\n",
       "      <td>1.000000</td>\n",
       "      <td>0.994698</td>\n",
       "      <td>0.971230</td>\n",
       "      <td>0.969226</td>\n",
       "    </tr>\n",
       "    <tr>\n",
       "      <th>방문자수(20)</th>\n",
       "      <td>0.991544</td>\n",
       "      <td>0.994698</td>\n",
       "      <td>1.000000</td>\n",
       "      <td>0.981832</td>\n",
       "      <td>0.980781</td>\n",
       "    </tr>\n",
       "    <tr>\n",
       "      <th>인구수(19)</th>\n",
       "      <td>0.992176</td>\n",
       "      <td>0.971230</td>\n",
       "      <td>0.981832</td>\n",
       "      <td>1.000000</td>\n",
       "      <td>0.999921</td>\n",
       "    </tr>\n",
       "    <tr>\n",
       "      <th>인구수(20)</th>\n",
       "      <td>0.991177</td>\n",
       "      <td>0.969226</td>\n",
       "      <td>0.980781</td>\n",
       "      <td>0.999921</td>\n",
       "      <td>1.000000</td>\n",
       "    </tr>\n",
       "  </tbody>\n",
       "</table>\n",
       "</div>"
      ],
      "text/plain": [
       "          카페개수(21)  방문자수(19)  방문자수(20)   인구수(19)   인구수(20)\n",
       "카페개수(21)  1.000000  0.985994  0.991544  0.992176  0.991177\n",
       "방문자수(19)  0.985994  1.000000  0.994698  0.971230  0.969226\n",
       "방문자수(20)  0.991544  0.994698  1.000000  0.981832  0.980781\n",
       "인구수(19)   0.992176  0.971230  0.981832  1.000000  0.999921\n",
       "인구수(20)   0.991177  0.969226  0.980781  0.999921  1.000000"
      ]
     },
     "execution_count": 15,
     "metadata": {},
     "output_type": "execute_result"
    }
   ],
   "source": [
    "최종데이터.corr()"
   ]
  },
  {
   "cell_type": "code",
   "execution_count": 16,
   "id": "a2cc79bf",
   "metadata": {},
   "outputs": [],
   "source": [
    "최종데이터=최종데이터[['카페개수(21)','인구수(20)', '방문자수(20)']]\n",
    "최종데이터.columns=['카페개수','인구수', '방문자수']"
   ]
  },
  {
   "cell_type": "markdown",
   "id": "fb508234",
   "metadata": {},
   "source": [
    "20년이 더 적합 -> 외국인은 카페와 관련이 덜하다."
   ]
  },
  {
   "cell_type": "code",
   "execution_count": 17,
   "id": "389e8cb6",
   "metadata": {},
   "outputs": [
    {
     "data": {
      "text/plain": [
       "<AxesSubplot:xlabel='카페개수', ylabel='방문자수'>"
      ]
     },
     "execution_count": 17,
     "metadata": {},
     "output_type": "execute_result"
    },
    {
     "data": {
      "image/png": "[encoded data removed]",
      "text/plain": [
       "<Figure size 432x288 with 1 Axes>"
      ]
     },
     "metadata": {
      "needs_background": "light"
     },
     "output_type": "display_data"
    }
   ],
   "source": [
    "최종데이터.plot.scatter(x='카페개수', y = '방문자수')"
   ]
  },
  {
   "cell_type": "code",
   "execution_count": 18,
   "id": "93d6f14e",
   "metadata": {},
   "outputs": [
    {
     "data": {
      "text/plain": [
       "<AxesSubplot:title={'center':'heatmap of visitor cafe population'}>"
      ]
     },
     "execution_count": 18,
     "metadata": {},
     "output_type": "execute_result"
    },
    {
     "data": {
      "image/png": "[encoded data removed]",
      "text/plain": [
       "<Figure size 720x576 with 2 Axes>"
      ]
     },
     "metadata": {
      "needs_background": "light"
     },
     "output_type": "display_data"
    }
   ],
   "source": [
    "colormap = plt.cm.PuBu\n",
    "plt.figure(figsize=(10, 8))\n",
    "plt.title(\"heatmap of visitor cafe population\", y = 1.05, size = 15)\n",
    "sns.heatmap(최종데이터.corr(), linewidths = 0.1, vmax = 1.0,\n",
    "           square = True, cmap = colormap, linecolor = \"white\", annot = True, annot_kws = {\"size\" : 16})"
   ]
  },
  {
   "cell_type": "code",
   "execution_count": null,
   "id": "a6bd502b",
   "metadata": {},
   "outputs": [],
   "source": []
  }
 ],
 "metadata": {
  "kernelspec": {
   "display_name": "Python 3",
   "language": "python",
   "name": "python3"
  },
  "language_info": {
   "codemirror_mode": {
    "name": "ipython",
    "version": 3
   },
   "file_extension": ".py",
   "mimetype": "text/x-python",
   "name": "python",
   "nbconvert_exporter": "python",
   "pygments_lexer": "ipython3",
   "version": "3.8.10"
  }
 },
 "nbformat": 4,
 "nbformat_minor": 5
}
