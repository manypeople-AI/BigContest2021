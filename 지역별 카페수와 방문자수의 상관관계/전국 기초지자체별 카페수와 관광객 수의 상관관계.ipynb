{
 "cells": [
  {
   "cell_type": "code",
   "execution_count": 1,
   "source": [
    "import pandas as pd\r\n",
    "import numpy as np\r\n",
    "from pandas import DataFrame as df\r\n",
    "import matplotlib\r\n",
    "import matplotlib.pyplot as plt\r\n",
    "import seaborn as sns\r\n",
    "sns.set(style='darkgrid', rc = {'figure.figsize':(16,8)})\r\n",
    "matplotlib.rcParams['font.family']='Malgun Gothic'"
   ],
   "outputs": [],
   "metadata": {}
  },
  {
   "cell_type": "markdown",
   "source": [
    "# 전국 기초지자체(250) 단위 당 카페수, 인구수, 관광객 수"
   ],
   "metadata": {}
  },
  {
   "cell_type": "markdown",
   "source": [
    "## 방문자수"
   ],
   "metadata": {}
  },
  {
   "cell_type": "code",
   "execution_count": 2,
   "source": [
    "광역시도 = ['서울', '부산','대구','인천','광주','대전','울산','세종','경기','강원','충북','충남','전북','전남','경북','경남','제주']"
   ],
   "outputs": [],
   "metadata": {}
  },
  {
   "cell_type": "code",
   "execution_count": 3,
   "source": [
    "filenames=[]\r\n",
    "for x in 광역시도:\r\n",
    "    string = \"../data/방문자수/\"+x+\".csv\"\r\n",
    "    filenames.append(string)"
   ],
   "outputs": [],
   "metadata": {}
  },
  {
   "cell_type": "code",
   "execution_count": 4,
   "source": [
    "전국방문자수=pd.DataFrame()\r\n",
    "for i,area in enumerate(광역시도):\r\n",
    "    방문객 = pd.read_csv(filenames[i], names=['지역','구분','2018','2019','2020'], skiprows=lambda x: x%6 in [0,1,2,3,5])\r\n",
    "    방문자수=pd.DataFrame(방문객['2020'])\r\n",
    "    방문자수.index=방문객['지역']\r\n",
    "    방문자수.columns=['방문자수']\r\n",
    "    방문자수['광역시도']= [ area for x in range(len(방문자수))]\r\n",
    "    전국방문자수 = pd.concat([전국방문자수, 방문자수], axis=0)"
   ],
   "outputs": [],
   "metadata": {}
  },
  {
   "cell_type": "code",
   "execution_count": 5,
   "source": [
    "for i in range(len(전국방문자수)):\r\n",
    "    전국방문자수.iloc[i]['방문자수'] = int(전국방문자수.iloc[i]['방문자수'].strip().replace(',', ''))"
   ],
   "outputs": [],
   "metadata": {}
  },
  {
   "cell_type": "code",
   "execution_count": 6,
   "source": [
    "전국방문자수 = 전국방문자수.astype({'방문자수':'int64'})"
   ],
   "outputs": [],
   "metadata": {}
  },
  {
   "cell_type": "code",
   "execution_count": 7,
   "source": [
    "buffer = list(전국방문자수.index)\n",
    "buffer2 = []\n",
    "for x in buffer:\n",
    "    y = x.split(' ')\n",
    "    if len(y) ==1:\n",
    "        buffer2.append(y[0])\n",
    "    else:\n",
    "        buffer2.append(y[1])\n",
    "전국방문자수.index = buffer2"
   ],
   "outputs": [],
   "metadata": {}
  },
  {
   "cell_type": "code",
   "execution_count": 8,
   "source": [
    "전국방문자수.reset_index(inplace=True)\r\n",
    "전국방문자수.columns=['지역','방문자수','광역시도']\r\n",
    "전국방문자수"
   ],
   "outputs": [
    {
     "output_type": "execute_result",
     "data": {
      "text/plain": [
       "       지역       방문자수 광역시도\n",
       "0     종로구  104456299   서울\n",
       "1      중구  104341787   서울\n",
       "2     용산구   80135295   서울\n",
       "3     성동구   49796618   서울\n",
       "4     광진구   60152790   서울\n",
       "..    ...        ...  ...\n",
       "246   함양군    4654942   경남\n",
       "247   거창군    6085586   경남\n",
       "248   합천군    6472101   경남\n",
       "249   제주시   45056317   제주\n",
       "250  서귀포시   33497116   제주\n",
       "\n",
       "[251 rows x 3 columns]"
      ],
      "text/html": [
       "<div>\n",
       "<style scoped>\n",
       "    .dataframe tbody tr th:only-of-type {\n",
       "        vertical-align: middle;\n",
       "    }\n",
       "\n",
       "    .dataframe tbody tr th {\n",
       "        vertical-align: top;\n",
       "    }\n",
       "\n",
       "    .dataframe thead th {\n",
       "        text-align: right;\n",
       "    }\n",
       "</style>\n",
       "<table border=\"1\" class=\"dataframe\">\n",
       "  <thead>\n",
       "    <tr style=\"text-align: right;\">\n",
       "      <th></th>\n",
       "      <th>지역</th>\n",
       "      <th>방문자수</th>\n",
       "      <th>광역시도</th>\n",
       "    </tr>\n",
       "  </thead>\n",
       "  <tbody>\n",
       "    <tr>\n",
       "      <th>0</th>\n",
       "      <td>종로구</td>\n",
       "      <td>104456299</td>\n",
       "      <td>서울</td>\n",
       "    </tr>\n",
       "    <tr>\n",
       "      <th>1</th>\n",
       "      <td>중구</td>\n",
       "      <td>104341787</td>\n",
       "      <td>서울</td>\n",
       "    </tr>\n",
       "    <tr>\n",
       "      <th>2</th>\n",
       "      <td>용산구</td>\n",
       "      <td>80135295</td>\n",
       "      <td>서울</td>\n",
       "    </tr>\n",
       "    <tr>\n",
       "      <th>3</th>\n",
       "      <td>성동구</td>\n",
       "      <td>49796618</td>\n",
       "      <td>서울</td>\n",
       "    </tr>\n",
       "    <tr>\n",
       "      <th>4</th>\n",
       "      <td>광진구</td>\n",
       "      <td>60152790</td>\n",
       "      <td>서울</td>\n",
       "    </tr>\n",
       "    <tr>\n",
       "      <th>...</th>\n",
       "      <td>...</td>\n",
       "      <td>...</td>\n",
       "      <td>...</td>\n",
       "    </tr>\n",
       "    <tr>\n",
       "      <th>246</th>\n",
       "      <td>함양군</td>\n",
       "      <td>4654942</td>\n",
       "      <td>경남</td>\n",
       "    </tr>\n",
       "    <tr>\n",
       "      <th>247</th>\n",
       "      <td>거창군</td>\n",
       "      <td>6085586</td>\n",
       "      <td>경남</td>\n",
       "    </tr>\n",
       "    <tr>\n",
       "      <th>248</th>\n",
       "      <td>합천군</td>\n",
       "      <td>6472101</td>\n",
       "      <td>경남</td>\n",
       "    </tr>\n",
       "    <tr>\n",
       "      <th>249</th>\n",
       "      <td>제주시</td>\n",
       "      <td>45056317</td>\n",
       "      <td>제주</td>\n",
       "    </tr>\n",
       "    <tr>\n",
       "      <th>250</th>\n",
       "      <td>서귀포시</td>\n",
       "      <td>33497116</td>\n",
       "      <td>제주</td>\n",
       "    </tr>\n",
       "  </tbody>\n",
       "</table>\n",
       "<p>251 rows × 3 columns</p>\n",
       "</div>"
      ]
     },
     "metadata": {},
     "execution_count": 8
    }
   ],
   "metadata": {}
  },
  {
   "cell_type": "markdown",
   "source": [
    "## 인구"
   ],
   "metadata": {}
  },
  {
   "cell_type": "code",
   "execution_count": 9,
   "source": [
    "filenames2=[]\r\n",
    "for x in 광역시도:\r\n",
    "    string = \"../data/지역별 인구수/\"+x+\".csv\"\r\n",
    "    filenames2.append(string)"
   ],
   "outputs": [],
   "metadata": {}
  },
  {
   "cell_type": "code",
   "execution_count": 10,
   "source": [
    "지역별인구=pd.DataFrame()\r\n",
    "for i,area in enumerate(광역시도):\r\n",
    "    인구 = pd.read_csv(filenames2[i], encoding='cp949', index_col='행정구역(시군구)별',skiprows=1)\r\n",
    "    인구.columns=['인구수']\r\n",
    "    인구['광역시도']= [ area for x in range(len(인구))]\r\n",
    "    지역별인구 = pd.concat([지역별인구, 인구], axis=0)"
   ],
   "outputs": [],
   "metadata": {}
  },
  {
   "cell_type": "code",
   "execution_count": 11,
   "source": [
    "지역별인구 = 지역별인구[지역별인구['인구수']!=0]"
   ],
   "outputs": [],
   "metadata": {}
  },
  {
   "cell_type": "code",
   "execution_count": 12,
   "source": [
    "제거용=[\r\n",
    "'수원시',\r\n",
    "'성남시',\r\n",
    "'안양시',\r\n",
    "'안산시',\r\n",
    "'고양시',\r\n",
    "'용인시',\r\n",
    "'청주시',\r\n",
    "'천안시',\r\n",
    "'전주시',\r\n",
    "'포항시',\r\n",
    "'창원시',\r\n",
    "]"
   ],
   "outputs": [],
   "metadata": {}
  },
  {
   "cell_type": "code",
   "execution_count": 13,
   "source": [
    "지역별인구.drop(labels=제거용, inplace=True)"
   ],
   "outputs": [],
   "metadata": {}
  },
  {
   "cell_type": "code",
   "execution_count": 14,
   "source": [
    "지역별인구.reset_index(inplace=True)\r\n",
    "지역별인구.columns=['지역','인구수','광역시도']\r\n",
    "지역별인구"
   ],
   "outputs": [
    {
     "output_type": "execute_result",
     "data": {
      "text/plain": [
       "       지역     인구수 광역시도\n",
       "0     종로구  149384   서울\n",
       "1      중구  125240   서울\n",
       "2     용산구  230040   서울\n",
       "3     성동구  293556   서울\n",
       "4     광진구  346682   서울\n",
       "..    ...     ...  ...\n",
       "245   함양군   39080   경남\n",
       "246   거창군   61502   경남\n",
       "247   합천군   44006   경남\n",
       "248   제주시  492466   제주\n",
       "249  서귀포시  182169   제주\n",
       "\n",
       "[250 rows x 3 columns]"
      ],
      "text/html": [
       "<div>\n",
       "<style scoped>\n",
       "    .dataframe tbody tr th:only-of-type {\n",
       "        vertical-align: middle;\n",
       "    }\n",
       "\n",
       "    .dataframe tbody tr th {\n",
       "        vertical-align: top;\n",
       "    }\n",
       "\n",
       "    .dataframe thead th {\n",
       "        text-align: right;\n",
       "    }\n",
       "</style>\n",
       "<table border=\"1\" class=\"dataframe\">\n",
       "  <thead>\n",
       "    <tr style=\"text-align: right;\">\n",
       "      <th></th>\n",
       "      <th>지역</th>\n",
       "      <th>인구수</th>\n",
       "      <th>광역시도</th>\n",
       "    </tr>\n",
       "  </thead>\n",
       "  <tbody>\n",
       "    <tr>\n",
       "      <th>0</th>\n",
       "      <td>종로구</td>\n",
       "      <td>149384</td>\n",
       "      <td>서울</td>\n",
       "    </tr>\n",
       "    <tr>\n",
       "      <th>1</th>\n",
       "      <td>중구</td>\n",
       "      <td>125240</td>\n",
       "      <td>서울</td>\n",
       "    </tr>\n",
       "    <tr>\n",
       "      <th>2</th>\n",
       "      <td>용산구</td>\n",
       "      <td>230040</td>\n",
       "      <td>서울</td>\n",
       "    </tr>\n",
       "    <tr>\n",
       "      <th>3</th>\n",
       "      <td>성동구</td>\n",
       "      <td>293556</td>\n",
       "      <td>서울</td>\n",
       "    </tr>\n",
       "    <tr>\n",
       "      <th>4</th>\n",
       "      <td>광진구</td>\n",
       "      <td>346682</td>\n",
       "      <td>서울</td>\n",
       "    </tr>\n",
       "    <tr>\n",
       "      <th>...</th>\n",
       "      <td>...</td>\n",
       "      <td>...</td>\n",
       "      <td>...</td>\n",
       "    </tr>\n",
       "    <tr>\n",
       "      <th>245</th>\n",
       "      <td>함양군</td>\n",
       "      <td>39080</td>\n",
       "      <td>경남</td>\n",
       "    </tr>\n",
       "    <tr>\n",
       "      <th>246</th>\n",
       "      <td>거창군</td>\n",
       "      <td>61502</td>\n",
       "      <td>경남</td>\n",
       "    </tr>\n",
       "    <tr>\n",
       "      <th>247</th>\n",
       "      <td>합천군</td>\n",
       "      <td>44006</td>\n",
       "      <td>경남</td>\n",
       "    </tr>\n",
       "    <tr>\n",
       "      <th>248</th>\n",
       "      <td>제주시</td>\n",
       "      <td>492466</td>\n",
       "      <td>제주</td>\n",
       "    </tr>\n",
       "    <tr>\n",
       "      <th>249</th>\n",
       "      <td>서귀포시</td>\n",
       "      <td>182169</td>\n",
       "      <td>제주</td>\n",
       "    </tr>\n",
       "  </tbody>\n",
       "</table>\n",
       "<p>250 rows × 3 columns</p>\n",
       "</div>"
      ]
     },
     "metadata": {},
     "execution_count": 14
    }
   ],
   "metadata": {}
  },
  {
   "cell_type": "markdown",
   "source": [
    "#### 방문객수보다 하나가 적다."
   ],
   "metadata": {}
  },
  {
   "cell_type": "markdown",
   "source": [
    "## 카페개수"
   ],
   "metadata": {}
  },
  {
   "cell_type": "code",
   "execution_count": 15,
   "source": [
    "filenames3=[]\r\n",
    "for x in 광역시도:\r\n",
    "    string = \"../data/소상공인시장진흥공단_상가(상권)정보_20210630/소상공인시장진흥공단_상가(상권)정보_\"+x+\"_202106.csv\"\r\n",
    "    filenames3.append(string)\r\n",
    "#filenames3"
   ],
   "outputs": [],
   "metadata": {}
  },
  {
   "cell_type": "code",
   "execution_count": 16,
   "source": [
    "기초지자체당카페수=pd.DataFrame(dtype='int64')\r\n",
    "for i,area in enumerate(광역시도):\r\n",
    "    data = pd.read_csv(filenames3[i])\r\n",
    "    cafe = data[data['상권업종소분류명']=='커피전문점/카페/다방']\r\n",
    "    지역별카페수 = pd.DataFrame(cafe.groupby(['시군구명']).count()['상호명'])\r\n",
    "    지역별카페수.columns=['카페개수']\r\n",
    "    지역별카페수['광역시도']= [ area for x in range(len(지역별카페수))]\r\n",
    "    기초지자체당카페수 = pd.concat([기초지자체당카페수, 지역별카페수], axis=0)\r\n",
    "#기초지자체당카페수"
   ],
   "outputs": [
    {
     "output_type": "stream",
     "name": "stderr",
     "text": [
      "C:\\Users\\scarl\\anaconda3\\lib\\site-packages\\IPython\\core\\interactiveshell.py:3165: DtypeWarning: Columns (35) have mixed types.Specify dtype option on import or set low_memory=False.\n",
      "  has_raised = await self.run_ast_nodes(code_ast.body, cell_name,\n"
     ]
    }
   ],
   "metadata": {}
  },
  {
   "cell_type": "code",
   "execution_count": 17,
   "source": [
    "제거용2=[\r\n",
    "'수원시',\r\n",
    "'안산시',\r\n",
    "'고양시',\r\n",
    "'용인시',\r\n",
    "'전주시',\r\n",
    "'창원시',\r\n",
    "]"
   ],
   "outputs": [],
   "metadata": {}
  },
  {
   "cell_type": "code",
   "execution_count": 18,
   "source": [
    "기초지자체당카페수.drop(labels=제거용2, inplace=True)"
   ],
   "outputs": [],
   "metadata": {}
  },
  {
   "cell_type": "code",
   "execution_count": 19,
   "source": [
    "buffer = list(기초지자체당카페수.index)\n",
    "buffer2 = []\n",
    "for x in buffer:\n",
    "    y = x.split(' ')\n",
    "    if len(y) ==1:\n",
    "        buffer2.append(y[0])\n",
    "    else:\n",
    "        buffer2.append(y[1])\n",
    "기초지자체당카페수.index = buffer2"
   ],
   "outputs": [],
   "metadata": {}
  },
  {
   "cell_type": "code",
   "execution_count": 20,
   "source": [
    "기초지자체당카페수.reset_index(inplace=True)\n",
    "기초지자체당카페수.columns=['지역','카페개수','광역시도']\n",
    "기초지자체당카페수"
   ],
   "outputs": [
    {
     "output_type": "execute_result",
     "data": {
      "text/plain": [
       "       지역  카페개수 광역시도\n",
       "0     강남구  2385   서울\n",
       "1     강동구   788   서울\n",
       "2     강북구   324   서울\n",
       "3     강서구  1057   서울\n",
       "4     관악구   738   서울\n",
       "..    ...   ...  ...\n",
       "245   함안군   117   경남\n",
       "246   함양군    68   경남\n",
       "247   합천군   111   경남\n",
       "248  서귀포시   998   제주\n",
       "249   제주시  1802   제주\n",
       "\n",
       "[250 rows x 3 columns]"
      ],
      "text/html": [
       "<div>\n",
       "<style scoped>\n",
       "    .dataframe tbody tr th:only-of-type {\n",
       "        vertical-align: middle;\n",
       "    }\n",
       "\n",
       "    .dataframe tbody tr th {\n",
       "        vertical-align: top;\n",
       "    }\n",
       "\n",
       "    .dataframe thead th {\n",
       "        text-align: right;\n",
       "    }\n",
       "</style>\n",
       "<table border=\"1\" class=\"dataframe\">\n",
       "  <thead>\n",
       "    <tr style=\"text-align: right;\">\n",
       "      <th></th>\n",
       "      <th>지역</th>\n",
       "      <th>카페개수</th>\n",
       "      <th>광역시도</th>\n",
       "    </tr>\n",
       "  </thead>\n",
       "  <tbody>\n",
       "    <tr>\n",
       "      <th>0</th>\n",
       "      <td>강남구</td>\n",
       "      <td>2385</td>\n",
       "      <td>서울</td>\n",
       "    </tr>\n",
       "    <tr>\n",
       "      <th>1</th>\n",
       "      <td>강동구</td>\n",
       "      <td>788</td>\n",
       "      <td>서울</td>\n",
       "    </tr>\n",
       "    <tr>\n",
       "      <th>2</th>\n",
       "      <td>강북구</td>\n",
       "      <td>324</td>\n",
       "      <td>서울</td>\n",
       "    </tr>\n",
       "    <tr>\n",
       "      <th>3</th>\n",
       "      <td>강서구</td>\n",
       "      <td>1057</td>\n",
       "      <td>서울</td>\n",
       "    </tr>\n",
       "    <tr>\n",
       "      <th>4</th>\n",
       "      <td>관악구</td>\n",
       "      <td>738</td>\n",
       "      <td>서울</td>\n",
       "    </tr>\n",
       "    <tr>\n",
       "      <th>...</th>\n",
       "      <td>...</td>\n",
       "      <td>...</td>\n",
       "      <td>...</td>\n",
       "    </tr>\n",
       "    <tr>\n",
       "      <th>245</th>\n",
       "      <td>함안군</td>\n",
       "      <td>117</td>\n",
       "      <td>경남</td>\n",
       "    </tr>\n",
       "    <tr>\n",
       "      <th>246</th>\n",
       "      <td>함양군</td>\n",
       "      <td>68</td>\n",
       "      <td>경남</td>\n",
       "    </tr>\n",
       "    <tr>\n",
       "      <th>247</th>\n",
       "      <td>합천군</td>\n",
       "      <td>111</td>\n",
       "      <td>경남</td>\n",
       "    </tr>\n",
       "    <tr>\n",
       "      <th>248</th>\n",
       "      <td>서귀포시</td>\n",
       "      <td>998</td>\n",
       "      <td>제주</td>\n",
       "    </tr>\n",
       "    <tr>\n",
       "      <th>249</th>\n",
       "      <td>제주시</td>\n",
       "      <td>1802</td>\n",
       "      <td>제주</td>\n",
       "    </tr>\n",
       "  </tbody>\n",
       "</table>\n",
       "<p>250 rows × 3 columns</p>\n",
       "</div>"
      ]
     },
     "metadata": {},
     "execution_count": 20
    }
   ],
   "metadata": {}
  },
  {
   "cell_type": "markdown",
   "source": [
    "### 전체 합치기"
   ],
   "metadata": {}
  },
  {
   "cell_type": "code",
   "execution_count": 21,
   "source": [
    "최종데이터 = 기초지자체당카페수.merge(지역별인구, how='inner', on=['지역', '광역시도'])\n",
    "최종데이터 = 최종데이터.merge(전국방문자수, how='inner', on=['지역', '광역시도'])\n",
    "최종데이터"
   ],
   "outputs": [
    {
     "output_type": "execute_result",
     "data": {
      "text/plain": [
       "       지역  카페개수 광역시도     인구수       방문자수\n",
       "0     강남구  2385   서울  539231  183522054\n",
       "1     강동구   788   서울  459970   48577381\n",
       "2     강북구   324   서울  308055   28958218\n",
       "3     강서구  1057   서울  580185   60277663\n",
       "4     관악구   738   서울  495060   47277054\n",
       "..    ...   ...  ...     ...        ...\n",
       "244   함안군   117   경남   64182    9592572\n",
       "245   함양군    68   경남   39080    4654942\n",
       "246   합천군   111   경남   44006    6472101\n",
       "247  서귀포시   998   제주  182169   33497116\n",
       "248   제주시  1802   제주  492466   45056317\n",
       "\n",
       "[249 rows x 5 columns]"
      ],
      "text/html": [
       "<div>\n",
       "<style scoped>\n",
       "    .dataframe tbody tr th:only-of-type {\n",
       "        vertical-align: middle;\n",
       "    }\n",
       "\n",
       "    .dataframe tbody tr th {\n",
       "        vertical-align: top;\n",
       "    }\n",
       "\n",
       "    .dataframe thead th {\n",
       "        text-align: right;\n",
       "    }\n",
       "</style>\n",
       "<table border=\"1\" class=\"dataframe\">\n",
       "  <thead>\n",
       "    <tr style=\"text-align: right;\">\n",
       "      <th></th>\n",
       "      <th>지역</th>\n",
       "      <th>카페개수</th>\n",
       "      <th>광역시도</th>\n",
       "      <th>인구수</th>\n",
       "      <th>방문자수</th>\n",
       "    </tr>\n",
       "  </thead>\n",
       "  <tbody>\n",
       "    <tr>\n",
       "      <th>0</th>\n",
       "      <td>강남구</td>\n",
       "      <td>2385</td>\n",
       "      <td>서울</td>\n",
       "      <td>539231</td>\n",
       "      <td>183522054</td>\n",
       "    </tr>\n",
       "    <tr>\n",
       "      <th>1</th>\n",
       "      <td>강동구</td>\n",
       "      <td>788</td>\n",
       "      <td>서울</td>\n",
       "      <td>459970</td>\n",
       "      <td>48577381</td>\n",
       "    </tr>\n",
       "    <tr>\n",
       "      <th>2</th>\n",
       "      <td>강북구</td>\n",
       "      <td>324</td>\n",
       "      <td>서울</td>\n",
       "      <td>308055</td>\n",
       "      <td>28958218</td>\n",
       "    </tr>\n",
       "    <tr>\n",
       "      <th>3</th>\n",
       "      <td>강서구</td>\n",
       "      <td>1057</td>\n",
       "      <td>서울</td>\n",
       "      <td>580185</td>\n",
       "      <td>60277663</td>\n",
       "    </tr>\n",
       "    <tr>\n",
       "      <th>4</th>\n",
       "      <td>관악구</td>\n",
       "      <td>738</td>\n",
       "      <td>서울</td>\n",
       "      <td>495060</td>\n",
       "      <td>47277054</td>\n",
       "    </tr>\n",
       "    <tr>\n",
       "      <th>...</th>\n",
       "      <td>...</td>\n",
       "      <td>...</td>\n",
       "      <td>...</td>\n",
       "      <td>...</td>\n",
       "      <td>...</td>\n",
       "    </tr>\n",
       "    <tr>\n",
       "      <th>244</th>\n",
       "      <td>함안군</td>\n",
       "      <td>117</td>\n",
       "      <td>경남</td>\n",
       "      <td>64182</td>\n",
       "      <td>9592572</td>\n",
       "    </tr>\n",
       "    <tr>\n",
       "      <th>245</th>\n",
       "      <td>함양군</td>\n",
       "      <td>68</td>\n",
       "      <td>경남</td>\n",
       "      <td>39080</td>\n",
       "      <td>4654942</td>\n",
       "    </tr>\n",
       "    <tr>\n",
       "      <th>246</th>\n",
       "      <td>합천군</td>\n",
       "      <td>111</td>\n",
       "      <td>경남</td>\n",
       "      <td>44006</td>\n",
       "      <td>6472101</td>\n",
       "    </tr>\n",
       "    <tr>\n",
       "      <th>247</th>\n",
       "      <td>서귀포시</td>\n",
       "      <td>998</td>\n",
       "      <td>제주</td>\n",
       "      <td>182169</td>\n",
       "      <td>33497116</td>\n",
       "    </tr>\n",
       "    <tr>\n",
       "      <th>248</th>\n",
       "      <td>제주시</td>\n",
       "      <td>1802</td>\n",
       "      <td>제주</td>\n",
       "      <td>492466</td>\n",
       "      <td>45056317</td>\n",
       "    </tr>\n",
       "  </tbody>\n",
       "</table>\n",
       "<p>249 rows × 5 columns</p>\n",
       "</div>"
      ]
     },
     "metadata": {},
     "execution_count": 21
    }
   ],
   "metadata": {}
  },
  {
   "cell_type": "code",
   "execution_count": 22,
   "source": [
    "최종데이터.corr()"
   ],
   "outputs": [
    {
     "output_type": "execute_result",
     "data": {
      "text/plain": [
       "          카페개수       인구수      방문자수\n",
       "카페개수  1.000000  0.829954  0.871683\n",
       "인구수   0.829954  1.000000  0.724216\n",
       "방문자수  0.871683  0.724216  1.000000"
      ],
      "text/html": [
       "<div>\n",
       "<style scoped>\n",
       "    .dataframe tbody tr th:only-of-type {\n",
       "        vertical-align: middle;\n",
       "    }\n",
       "\n",
       "    .dataframe tbody tr th {\n",
       "        vertical-align: top;\n",
       "    }\n",
       "\n",
       "    .dataframe thead th {\n",
       "        text-align: right;\n",
       "    }\n",
       "</style>\n",
       "<table border=\"1\" class=\"dataframe\">\n",
       "  <thead>\n",
       "    <tr style=\"text-align: right;\">\n",
       "      <th></th>\n",
       "      <th>카페개수</th>\n",
       "      <th>인구수</th>\n",
       "      <th>방문자수</th>\n",
       "    </tr>\n",
       "  </thead>\n",
       "  <tbody>\n",
       "    <tr>\n",
       "      <th>카페개수</th>\n",
       "      <td>1.000000</td>\n",
       "      <td>0.829954</td>\n",
       "      <td>0.871683</td>\n",
       "    </tr>\n",
       "    <tr>\n",
       "      <th>인구수</th>\n",
       "      <td>0.829954</td>\n",
       "      <td>1.000000</td>\n",
       "      <td>0.724216</td>\n",
       "    </tr>\n",
       "    <tr>\n",
       "      <th>방문자수</th>\n",
       "      <td>0.871683</td>\n",
       "      <td>0.724216</td>\n",
       "      <td>1.000000</td>\n",
       "    </tr>\n",
       "  </tbody>\n",
       "</table>\n",
       "</div>"
      ]
     },
     "metadata": {},
     "execution_count": 22
    }
   ],
   "metadata": {}
  },
  {
   "cell_type": "code",
   "execution_count": 23,
   "source": [
    "최종데이터.to_csv('data/visitor_cafe_population.csv')"
   ],
   "outputs": [],
   "metadata": {}
  },
  {
   "cell_type": "markdown",
   "source": [
    "### seaborn 시각화"
   ],
   "metadata": {}
  },
  {
   "cell_type": "code",
   "execution_count": 24,
   "source": [
    "colormap = plt.cm.PuBu\n",
    "plt.figure(figsize=(10, 8))\n",
    "plt.title(\"heatmap of visitor cafe population\", y = 1.05, size = 15)\n",
    "sns.heatmap(최종데이터.corr(), linewidths = 0.1, vmax = 1.0,\n",
    "           square = True, cmap = colormap, linecolor = \"white\", annot = True, annot_kws = {\"size\" : 16})"
   ],
   "outputs": [
    {
     "output_type": "execute_result",
     "data": {
      "text/plain": [
       "<AxesSubplot:title={'center':'heatmap of visitor cafe population'}>"
      ]
     },
     "metadata": {},
     "execution_count": 24
    },
    {
     "output_type": "display_data",
     "data": {
      "text/plain": [
       "<Figure size 720x576 with 2 Axes>"
      ],
      "image/png": "[encoded data removed]"
     },
     "metadata": {}
    }
   ],
   "metadata": {}
  },
  {
   "cell_type": "code",
   "execution_count": 25,
   "source": [
    "sns.pairplot(최종데이터)"
   ],
   "outputs": [
    {
     "output_type": "execute_result",
     "data": {
      "text/plain": [
       "<seaborn.axisgrid.PairGrid at 0x152bd14aeb0>"
      ]
     },
     "metadata": {},
     "execution_count": 25
    },
    {
     "output_type": "display_data",
     "data": {
      "text/plain": [
       "<Figure size 540x540 with 12 Axes>"
      ],
      "image/png": "[encoded data removed]"
     },
     "metadata": {}
    }
   ],
   "metadata": {
    "scrolled": true
   }
  }
 ],
 "metadata": {
  "kernelspec": {
   "display_name": "Python 3",
   "language": "python",
   "name": "python3"
  },
  "language_info": {
   "codemirror_mode": {
    "name": "ipython",
    "version": 3
   },
   "file_extension": ".py",
   "mimetype": "text/x-python",
   "name": "python",
   "nbconvert_exporter": "python",
   "pygments_lexer": "ipython3",
   "version": "3.8.10"
  }
 },
 "nbformat": 4,
 "nbformat_minor": 5
}