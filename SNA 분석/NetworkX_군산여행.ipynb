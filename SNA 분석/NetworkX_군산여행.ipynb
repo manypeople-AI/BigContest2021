{
 "cells": [
  {
   "cell_type": "markdown",
   "id": "82b0bb71",
   "metadata": {},
   "source": [
    "# <NetworkX: 군산여행>"
   ]
  },
  {
   "cell_type": "markdown",
   "id": "a874df01",
   "metadata": {},
   "source": [
    "'군산여행' 검색 결과 네이버 블로그 크롤링 후 NetworkX로 시각화"
   ]
  },
  {
   "cell_type": "markdown",
   "id": "f88debc3",
   "metadata": {},
   "source": [
    "# 블로그 크롤링"
   ]
  },
  {
   "cell_type": "code",
   "execution_count": 22,
   "id": "0b64abd9",
   "metadata": {},
   "outputs": [
    {
     "name": "stderr",
     "output_type": "stream",
     "text": [
      "<>:25: SyntaxWarning: \"is\" with a literal. Did you mean \"==\"?\n",
      "<>:63: SyntaxWarning: \"is\" with a literal. Did you mean \"==\"?\n",
      "<>:25: SyntaxWarning: \"is\" with a literal. Did you mean \"==\"?\n",
      "<>:63: SyntaxWarning: \"is\" with a literal. Did you mean \"==\"?\n",
      "<ipython-input-22-4ae7e6133ec0>:25: SyntaxWarning: \"is\" with a literal. Did you mean \"==\"?\n",
      "  if response_code is 200:\n",
      "<ipython-input-22-4ae7e6133ec0>:63: SyntaxWarning: \"is\" with a literal. Did you mean \"==\"?\n",
      "  if response_code is 200:\n"
     ]
    }
   ],
   "source": [
    "import re\n",
    "import json\n",
    "import math\n",
    "import requests\n",
    "import urllib.request\n",
    "import urllib.error\n",
    "import urllib.parse\n",
    "from bs4 import BeautifulSoup\n",
    "import pandas as pd\n",
    "\n",
    "naver_client_id = \"OnWRZS9VM4NjQ0wJGo2q\"\n",
    "naver_client_secret = \"Sj9k_A_HxT\"\n",
    "\n",
    "def get_blog_count(query, display):\n",
    "    encode_query = urllib.parse.quote(query)\n",
    "    search_url = \"https://openapi.naver.com/v1/search/blog?query=\" + encode_query\n",
    "    request = urllib.request.Request(search_url)\n",
    "\n",
    "    request.add_header(\"X-Naver-Client-Id\", naver_client_id)\n",
    "    request.add_header(\"X-Naver-Client-Secret\", naver_client_secret)\n",
    "\n",
    "    response = urllib.request.urlopen(request)\n",
    "    response_code = response.getcode()\n",
    "\n",
    "    if response_code is 200:\n",
    "        response_body = response.read()\n",
    "        response_body_dict = json.loads(response_body.decode('utf-8'))\n",
    "\n",
    "        print(\"Last build date: \" + str(response_body_dict['lastBuildDate']))\n",
    "        print(\"Total: \" + str(response_body_dict['total']))\n",
    "        print(\"Start: \" + str(response_body_dict['start']))\n",
    "        print(\"Display: \" + str(response_body_dict['display']))\n",
    "\n",
    "        if response_body_dict['total'] == 0:\n",
    "            blog_count = 0\n",
    "        else:\n",
    "            blog_total = math.ceil(response_body_dict['total'] / int(display))\n",
    "\n",
    "            if blog_total >= 1000:\n",
    "                blog_count = 1000\n",
    "            else:\n",
    "                blog_count = blog_total\n",
    "\n",
    "            print(\"Blog total: \" + str(blog_total))\n",
    "            print(\"Blog count: \" + str(blog_count))\n",
    "\n",
    "        return blog_count\n",
    "\n",
    "def get_blog_post(query, display, start_index, sort):\n",
    "    global no, df\n",
    "    \n",
    "    encode_query = urllib.parse.quote(query)\n",
    "    search_url = \"https://openapi.naver.com/v1/search/blog?query=\" + encode_query + \"&display=\" + str(display) + \"&start=\" + str(start_index) + \"&sort=\" + sort\n",
    "\n",
    "    request = urllib.request.Request(search_url)\n",
    "\n",
    "    request.add_header(\"X-Naver-Client-Id\", naver_client_id)\n",
    "    request.add_header(\"X-Naver-Client-Secret\", naver_client_secret)\n",
    "\n",
    "    response = urllib.request.urlopen(request)\n",
    "    response_code = response.getcode()\n",
    "\n",
    "    if response_code is 200:\n",
    "        response_body = response.read()\n",
    "        response_body_dict = json.loads(response_body.decode('utf-8'))\n",
    "        for item_index in range(0, len(response_body_dict['items'])):\n",
    "            try:\n",
    "                remove_html_tag = re.compile('<.*?>')\n",
    "                title = re.sub(remove_html_tag, '', response_body_dict['items'][item_index]['title'])\n",
    "                link = response_body_dict['items'][item_index]['link'].replace(\"amp;\", \"\")\n",
    "                description = re.sub(remove_html_tag, '', response_body_dict['items'][item_index]['description'])\n",
    "                blogger_name = response_body_dict['items'][item_index]['bloggername']\n",
    "                blogger_link = response_body_dict['items'][item_index]['bloggerlink']\n",
    "                post_date = response_body_dict['items'][item_index]['postdate']\n",
    "\n",
    "                no += 1\n",
    "                post_code = requests.get(link)\n",
    "                post_text = post_code.text\n",
    "                post_soup = BeautifulSoup(post_text, 'lxml')\n",
    "\n",
    "                blog_post_content_text = \"\"\n",
    "                for mainFrame in post_soup.select('iframe#mainFrame'):\n",
    "                    blog_post_url = \"http://blog.naver.com\" + mainFrame.get('src')\n",
    "                    blog_post_code = requests.get(blog_post_url)\n",
    "                    blog_post_text = blog_post_code.text\n",
    "                    blog_post_soup = BeautifulSoup(blog_post_text, 'lxml')\n",
    "                    \n",
    "                    for blog_post_content in blog_post_soup.find_all('div', class_='se-viewer'):\n",
    "                        blog_post_content_text = blog_post_content.get_text()\n",
    "                        \n",
    "                    for blog_post_content in blog_post_soup.find_all('div', class_='se_doc_viewer'):\n",
    "                        blog_post_content_text = blog_post_content.get_text()\n",
    " \n",
    "                    for blog_post_content in blog_post_soup.select('div#postViewArea'):\n",
    "                        blog_post_content_text = blog_post_content.get_text()\n",
    "\n",
    "                df.loc[no] = [title, link, description, blogger_name, blogger_link, post_date, blog_post_content_text]\n",
    "                print(\"#\", end='')\n",
    "                \n",
    "            except:\n",
    "                item_index += 1"
   ]
  },
  {
   "cell_type": "code",
   "execution_count": 23,
   "id": "4b046be8",
   "metadata": {},
   "outputs": [
    {
     "name": "stdout",
     "output_type": "stream",
     "text": [
      "Last build date: Fri, 20 Aug 2021 15:09:32 +0900\n",
      "Total: 286441\n",
      "Start: 1\n",
      "Display: 10\n",
      "Blog total: 28645\n",
      "Blog count: 1000\n",
      "########################################################################################################################################################################################################################################################################################################################################################################################################################################################################################################################################################################################################################################################################################################################################################################################################################################################################################################################################################################################################################################"
     ]
    }
   ],
   "source": [
    "no = 0                 # 몇개의 포스트를 저장하였는지 세기 위한 index\n",
    "query = \"군산 여행\"   # 검색을 원하는 문자열로서 UTF-8로 인코딩한다.\n",
    "display = 10           # 검색 결과 출력 건수 지정, 10(기본값),100(최대)\n",
    "start = 1              # 검색 시작 위치로 최대 1000까지 가능\n",
    "sort = \"sim\"           # 정렬 옵션: sim(유사도순, 기본값), date(날짜순)\n",
    "\n",
    "# 블로그를 DataFrame에 저장\n",
    "df = pd.DataFrame(columns=(\"Title\", \"Link\", \"Description\", \"Blogger Name\", \"Blogger Link\", \"Post Date\", \"Post Contents\"))\n",
    "\n",
    "blog_count = get_blog_count(query, display)\n",
    "for start_index in range(start, blog_count + 1, display):\n",
    "    get_blog_post(query, display, start_index, sort)\n",
    "\n",
    "df.to_csv(\"../data/data_군산_여행.csv\", header=True, index=False)"
   ]
  },
  {
   "cell_type": "code",
   "execution_count": 24,
   "id": "94f08150",
   "metadata": {
    "scrolled": true
   },
   "outputs": [
    {
     "name": "stdout",
     "output_type": "stream",
     "text": [
      "Last build date: Fri, 20 Aug 2021 15:20:24 +0900\n",
      "Total: 167753\n",
      "Start: 1\n",
      "Display: 10\n",
      "Blog total: 16776\n",
      "Blog count: 1000\n",
      "########################################################################################################################################################################################################################################################################################################################################################################################################################################################################################################################################################################################################################################################################################################################################################################################################################################################################################################################################################################################################################################"
     ]
    }
   ],
   "source": [
    "no = 0                 # 몇개의 포스트를 저장하였는지 세기 위한 index\n",
    "query = \"통영 여행\"   # 검색을 원하는 문자열로서 UTF-8로 인코딩한다.\n",
    "display = 10           # 검색 결과 출력 건수 지정, 10(기본값),100(최대)\n",
    "start = 1              # 검색 시작 위치로 최대 1000까지 가능\n",
    "sort = \"sim\"           # 정렬 옵션: sim(유사도순, 기본값), date(날짜순)\n",
    "\n",
    "# 블로그를 DataFrame에 저장\n",
    "df = pd.DataFrame(columns=(\"Title\", \"Link\", \"Description\", \"Blogger Name\", \"Blogger Link\", \"Post Date\", \"Post Contents\"))\n",
    "\n",
    "blog_count = get_blog_count(query, display)\n",
    "for start_index in range(start, blog_count + 1, display):\n",
    "    get_blog_post(query, display, start_index, sort)\n",
    "\n",
    "df.to_csv(\"../data/data_통영_여행.csv\", header=True, index=False)"
   ]
  },
  {
   "cell_type": "code",
   "execution_count": 25,
   "id": "ed6a32cb",
   "metadata": {},
   "outputs": [
    {
     "name": "stdout",
     "output_type": "stream",
     "text": [
      "Last build date: Fri, 20 Aug 2021 15:26:13 +0900\n",
      "Total: 47034\n",
      "Start: 1\n",
      "Display: 10\n",
      "Blog total: 4704\n",
      "Blog count: 1000\n",
      "########################################################################################################################################################################################################################################################################################################################################################################################################################################################################################################################################################################################################################################################################################################################################################################################################################################################################################################################################################################################################################################"
     ]
    }
   ],
   "source": [
    "no = 0                 # 몇개의 포스트를 저장하였는지 세기 위한 index\n",
    "query = \"목포 여행\"   # 검색을 원하는 문자열로서 UTF-8로 인코딩한다.\n",
    "display = 10           # 검색 결과 출력 건수 지정, 10(기본값),100(최대)\n",
    "start = 1              # 검색 시작 위치로 최대 1000까지 가능\n",
    "sort = \"sim\"           # 정렬 옵션: sim(유사도순, 기본값), date(날짜순)\n",
    "\n",
    "# 블로그를 DataFrame에 저장\n",
    "df = pd.DataFrame(columns=(\"Title\", \"Link\", \"Description\", \"Blogger Name\", \"Blogger Link\", \"Post Date\", \"Post Contents\"))\n",
    "\n",
    "blog_count = get_blog_count(query, display)\n",
    "for start_index in range(start, blog_count + 1, display):\n",
    "    get_blog_post(query, display, start_index, sort)\n",
    "\n",
    "df.to_csv(\"./data/data_목포_여행.csv\", header=True, index=False)"
   ]
  },
  {
   "cell_type": "markdown",
   "id": "d09bf8da",
   "metadata": {},
   "source": [
    "# 블로그 수 시각화"
   ]
  },
  {
   "cell_type": "code",
   "execution_count": 1,
   "id": "6ab4b05d",
   "metadata": {},
   "outputs": [],
   "source": [
    "import pandas as pd\n",
    "import numpy as np\n",
    "from pandas import Series, DataFrame\n",
    "import matplotlib.pyplot as plt"
   ]
  },
  {
   "cell_type": "code",
   "execution_count": 2,
   "id": "184f441e",
   "metadata": {},
   "outputs": [
    {
     "data": {
      "text/plain": [
       "군산여행    28627\n",
       "목포여행     4696\n",
       "통영여행    16765\n",
       "dtype: int64"
      ]
     },
     "execution_count": 2,
     "metadata": {},
     "output_type": "execute_result"
    }
   ],
   "source": [
    "sr = Series([28627,4696,16765], index=['군산여행','목포여행','통영여행'])\n",
    "sr"
   ]
  },
  {
   "cell_type": "code",
   "execution_count": 3,
   "id": "f90cff26",
   "metadata": {},
   "outputs": [],
   "source": [
    "from matplotlib import font_manager, rc\n",
    "font_name = font_manager.FontProperties(fname=\"c:/Windows/Fonts/malgun.ttf\").get_name()\n",
    "rc('font', family=font_name)\n",
    "\n",
    "import seaborn as sns\n",
    "sns.set(rc = {'figure.figsize':(10,6)})\n",
    "plt.rc('font', family=font_name)"
   ]
  },
  {
   "cell_type": "code",
   "execution_count": 4,
   "id": "8fcde1d1",
   "metadata": {},
   "outputs": [
    {
     "data": {
      "text/plain": [
       "<BarContainer object of 3 artists>"
      ]
     },
     "execution_count": 4,
     "metadata": {},
     "output_type": "execute_result"
    },
    {
     "data": {
      "image/png": "[encoded data removed]",
      "text/plain": [
       "<Figure size 720x432 with 1 Axes>"
      ]
     },
     "metadata": {},
     "output_type": "display_data"
    }
   ],
   "source": [
    "plt.bar(sr.index, sr.values, color='lightblue', alpha=0.7)"
   ]
  },
  {
   "cell_type": "markdown",
   "id": "519bdd04",
   "metadata": {},
   "source": [
    "# networkx 이용해 시각화"
   ]
  },
  {
   "cell_type": "markdown",
   "id": "bb8f5de1",
   "metadata": {},
   "source": [
    "## 1. '군산 여행' 검색"
   ]
  },
  {
   "cell_type": "code",
   "execution_count": 2,
   "id": "8e549dd9",
   "metadata": {},
   "outputs": [
    {
     "data": {
      "text/plain": [
       "['아', '휴', '아이구', '아이쿠', '아이고', '어', '나', '우리', '저희', '따라']"
      ]
     },
     "execution_count": 2,
     "metadata": {},
     "output_type": "execute_result"
    }
   ],
   "source": [
    "import pandas as pd\n",
    "df = pd.read_csv('./data/data_군산_여행.csv', encoding='utf-8')\n",
    "posts = df.get('Title') + \" \" + df.get('Description')\n",
    "post_date = df.get('Post Date')\n",
    "\n",
    "from eunjeon import Mecab\n",
    "tagger = Mecab()\n",
    "\n",
    "stop_words = \"아 휴 아이구 아이쿠 아이고 어 나 우리 저희 따라 의해 을 를 에 의 가 으로 로 에게 뿐이다 의거하여 근거하여 입각하여 기준으로 예하면 예를 들면 예를 들자면 저 소인 소생 저희 지말고 하지마 하지마라 다른 물론 또한 그리고 비길수 없다 해서는 안된다 뿐만 아니라 만이 아니다 만은 아니다 막론하고 관계없이 그치지 않다 그러나 그런데 하지만 든간에 논하지 않다 따지지 않다 설사 비록 더라도 아니면 만 못하다 하는 편이 낫다 불문하고 향하여 향해서 향하다 쪽으로 틈타 이용하여 타다 오르다 제외하고 이 외에 이 밖에 하여야 비로소 한다면 몰라도 외에도 이곳 여기 부터 기점으로 따라서 할 생각이다 하려고하다 이리하여 그리하여 그렇게 함으로써 하지만 일때 할때 앞에서 중에서 보는데서 으로써 로써 까지 해야한다 일것이다 반드시 할줄알다 할수있다 할수있어 임에 틀림없다 한다면 등 등등 제 겨우 단지 다만 할뿐 딩동 댕그 대해서 대하여 대하면 훨씬 얼마나 얼마만큼 얼마큼 남짓 여 얼마간 약간 다소 좀 조금 다수 몇 얼마 지만 하물며 또한 그러나 그렇지만 하지만 이외에도 대해 말하자면 뿐이다 다음에 반대로 반대로 말하자면 이와 반대로 바꾸어서 말하면 바꾸어서 한다면 만약 그렇지않으면 까악 툭 딱 삐걱거리다 보드득 비걱거리다 꽈당 응당 해야한다 에 가서 각 각각 여러분 각종 각자 제각기 하도록하다 와 과 그러므로 그래서 고로 한 까닭에 하기 때문에 거니와 이지만 대하여 관하여 관한 과연 실로 아니나다를가 생각한대로 진짜로 한적이있다 하곤하였다 하 하하 허허 아하 거바 와 오 왜 어째서 무엇때문에 어찌 하겠는가 무슨 어디 어느곳 더군다나 하물며 더욱이는 어느때 언제 야 이봐 어이 여보시오 흐흐 흥 휴 헉헉 헐떡헐떡 영차 여차 어기여차 끙끙 아야 앗 아야 콸콸 졸졸 좍좍 뚝뚝 주룩주룩 솨 우르르 그래도 또 그리고 바꾸어말하면 바꾸어말하자면 혹은 혹시 답다 및 그에 따르는 때가 되어 즉 지든지 설령 가령 하더라도 할지라도 일지라도 지든지 몇 거의 하마터면 인젠 이젠 된바에야 된이상 만큼\t어찌됏든 그위에 게다가 점에서 보아 비추어 보아 고려하면 하게될것이다 일것이다 비교적 좀 보다더 비하면 시키다 하게하다 할만하다 의해서 연이서 이어서 잇따라 뒤따라 뒤이어 결국 의지하여 기대여 통하여 자마자 더욱더 불구하고 얼마든지 마음대로 주저하지 않고 곧 즉시 바로 당장 하자마자 밖에 안된다 하면된다 그래 그렇지 요컨대 다시 말하자면 바꿔 말하면 즉 구체적으로 말하자면 시작하여 시초에 이상 허 헉 허걱 바와같이 해도좋다 해도된다 게다가 더구나 하물며 와르르 팍 퍽 펄렁 동안 이래 하고있었다 이었다 에서 로부터 까지 예하면 했어요 해요 함께 같이 더불어 마저 마저도 양자 모두 습니다 가까스로 하려고하다 즈음하여 다른 다른 방면으로 해봐요 습니까 했어요 말할것도 없고 무릎쓰고 개의치않고 하는것만 못하다 하는것이 낫다 매 매번 들 모 어느것 어느 로써 갖고말하자면 어디 어느쪽 어느것 어느해 어느 년도 라 해도 언젠가 어떤것 어느것 저기 저쪽 저것 그때 그럼 그러면 요만한걸 그래 그때 저것만큼 그저 이르기까지 할 줄 안다 할 힘이 있다 너 너희 당신 어찌 설마 차라리 할지언정 할지라도 할망정 할지언정 구토하다 게우다 토하다 메쓰겁다 옆사람 퉤 쳇 의거하여 근거하여 의해 따라 힘입어 그 다음 버금 두번째로 기타 첫번째로 나머지는 그중에서 견지에서 형식으로 쓰여 입장에서 위해서 단지 의해되다 하도록시키다 뿐만아니라 반대로 전후 전자 앞의것 잠시 잠깐 하면서 그렇지만 다음에 그러한즉 그런즉 남들 아무거나 어찌하든지 같다 비슷하다 예컨대 이럴정도로 어떻게 만약 만일 위에서 서술한바와같이 인 듯하다 하지 않는다면 만약에 무엇 무슨 어느 어떤 아래윗 조차 한데 그럼에도 불구하고 여전히 심지어 까지도 조차도 하지 않도록 않기 위하여 때 시각 무렵 시간 동안 어때 어떠한 하여금 네 예 우선 누구 누가 알겠는가 아무도 줄은모른다 줄은 몰랏다 하는 김에 겸사겸사 하는바 그런 까닭에 한 이유는 그러니 그러니까 때문에 그 너희 그들 너희들 타인 것 것들 너 위하여 공동으로 동시에 하기 위하여 어찌하여 무엇때문에 붕붕 윙윙 나 우리 엉엉 휘익 윙윙 오호 아하 어쨋든 만 못하다\t하기보다는 차라리 하는 편이 낫다 흐흐 놀라다 상대적으로 말하자면 마치 아니라면 쉿 그렇지 않으면 그렇지 않다면 안 그러면 아니었다면 하든지 아니면 이라면 좋아 알았어 하는것도 그만이다 어쩔수 없다 하나 일 일반적으로 일단 한켠으로는 오자마자 이렇게되면 이와같다면 전부 한마디 한항목 근거로 하기에 아울러 하지 않도록 않기 위해서 이르기까지 이 되다 로 인하여 까닭으로 이유만으로 이로 인하여 그래서 이 때문에 그러므로 그런 까닭에 알 수 있다 결론을 낼 수 있다 으로 인하여 있다 어떤것 관계가 있다 관련이 있다 연관되다 어떤것들 에 대해 이리하여 그리하여 여부 하기보다는 하느니 하면 할수록 운운 이러이러하다 하구나 하도다 다시말하면 다음으로 에 있다 에 달려 있다 우리 우리들 오히려 하기는한데 어떻게 어떻해 어찌됏어 어때 어째서 본대로 자 이 이쪽 여기 이것 이번 이렇게말하자면 이런 이러한 이와 같은 요만큼 요만한 것 얼마 안 되는 것 이만큼 이 정도의 이렇게 많은 것 이와 같다 이때 이렇구나 것과 같이 끼익 삐걱 따위 와 같은 사람들 부류의 사람들 왜냐하면 중의하나 오직 오로지 에 한하다 하기만 하면 도착하다 까지 미치다 도달하다 정도에 이르다 할 지경이다 결과에 이르다 관해서는 여러분 하고 있다 한 후 혼자 자기 자기집 자신 우에 종합한것과같이 총적으로 보면 총적으로 말하면 총적으로 대로 하다 으로서 참 그만이다 할 따름이다 쿵 탕탕 쾅쾅 둥둥 봐 봐라 아이야 아니 와아 응 아이 참나 년 월 일 령 영 일 이 삼 사 오 육 륙 칠 팔 구 이천육 이천칠 이천팔 이천구 하나 둘 셋 넷 다섯 여섯 일곱 여덟 아홉 령 영\"\n",
    "stop_words = stop_words.split(' ')\n",
    "stop_words[0:10]"
   ]
  },
  {
   "cell_type": "code",
   "execution_count": 14,
   "id": "bf17def4",
   "metadata": {},
   "outputs": [
    {
     "data": {
      "text/plain": [
       "['군산', '여행', '숙소', '에이본', '호텔', '페리어', '더블', '박', '만족', '박']"
      ]
     },
     "execution_count": 14,
     "metadata": {},
     "output_type": "execute_result"
    }
   ],
   "source": [
    "nouns = []\n",
    "for post in posts:\n",
    "    for noun in tagger.nouns(post):\n",
    "        if noun not in stop_words:\n",
    "            nouns.append(noun)\n",
    "            \n",
    "nouns[0:10]"
   ]
  },
  {
   "cell_type": "code",
   "execution_count": 4,
   "id": "5bc50bbf",
   "metadata": {},
   "outputs": [
    {
     "data": {
      "text/plain": [
       "{'군산': 4079,\n",
       " '여행': 2987,\n",
       " '곳': 464,\n",
       " '코스': 354,\n",
       " '마을': 302,\n",
       " '철길': 282,\n",
       " '맛집': 250,\n",
       " '근대': 233,\n",
       " '박': 224,\n",
       " '경암동': 195,\n",
       " '카페': 181,\n",
       " '당일치기': 160,\n",
       " '선유': 151,\n",
       " '성당': 149,\n",
       " '사진관': 149}"
      ]
     },
     "execution_count": 4,
     "metadata": {},
     "output_type": "execute_result"
    }
   ],
   "source": [
    "from collections import Counter\n",
    "num_top_nouns = 15\n",
    "nouns_counter = Counter(nouns)\n",
    "top_nouns = dict(nouns_counter.most_common(num_top_nouns))\n",
    "top_nouns"
   ]
  },
  {
   "cell_type": "code",
   "execution_count": 16,
   "id": "c9051a5f",
   "metadata": {},
   "outputs": [
    {
     "data": {
      "text/plain": [
       "['군산여행 숙소, 에이본호텔 슈페리어더블 1박2일 만족 1박2일 군산여행 군산여행 코스를 짜기 전에 여행일정이 정해지자마자 바로 했던 일이 바로 숙소를',\n",
       " '',\n",
       " '',\n",
       " ' 군산 시내에 위치하고 있어서 위치도 딱 괜찮은 것 같고, 호텔 바로 앞에 도로변이 아니라서 차소리로',\n",
       " '',\n",
       " '',\n",
       " ' ',\n",
       " '좋아하는 사람들과 군산여행',\n",
       " '',\n",
       " ' 힐링제대로네요~ 회비로 군산여행을 가기위해 조금씩 모았던 것이 벌써 많이 쌓이고 쌓여 여행하기에 충분한 금액이']"
      ]
     },
     "execution_count": 16,
     "metadata": {},
     "output_type": "execute_result"
    }
   ],
   "source": [
    "import re\n",
    "import networkx as nx\n",
    "\n",
    "# 블로그 내용을 문장으로 나누기\n",
    "sentences = []\n",
    "for post in posts:\n",
    "    sentences.extend(re.split('; |\\.|\\?|\\!', post))\n",
    "sentences[0:10]"
   ]
  },
  {
   "cell_type": "code",
   "execution_count": 17,
   "id": "91b6df53",
   "metadata": {
    "scrolled": false
   },
   "outputs": [
    {
     "data": {
      "text/plain": [
       "[['군산',\n",
       "  '여행',\n",
       "  '숙소',\n",
       "  '에이본',\n",
       "  '호텔',\n",
       "  '페리어',\n",
       "  '더블',\n",
       "  '박',\n",
       "  '일',\n",
       "  '만족',\n",
       "  '박',\n",
       "  '일',\n",
       "  '군산',\n",
       "  '여행',\n",
       "  '군산',\n",
       "  '여행',\n",
       "  '코스',\n",
       "  '전',\n",
       "  '여행',\n",
       "  '일정',\n",
       "  '일',\n",
       "  '숙소'],\n",
       " [],\n",
       " [],\n",
       " ['군산', '시내', '위치', '위치', '것', '호텔', '앞', '도로변', '차', '소리'],\n",
       " [],\n",
       " [],\n",
       " [],\n",
       " ['사람', '군산', '여행'],\n",
       " [],\n",
       " ['힐링', '회비', '군산', '여행', '조금', '것', '여행', '금액']]"
      ]
     },
     "execution_count": 17,
     "metadata": {},
     "output_type": "execute_result"
    }
   ],
   "source": [
    "# 문장별 명사 추출\n",
    "sentences_nouns = []\n",
    "for sentence in sentences:\n",
    "    sentence_nouns = tagger.nouns(sentence)\n",
    "    sentences_nouns.append(sentence_nouns)\n",
    "sentences_nouns[0:10]"
   ]
  },
  {
   "cell_type": "code",
   "execution_count": 20,
   "id": "41e40bd5",
   "metadata": {},
   "outputs": [
    {
     "data": {
      "text/plain": [
       "{'코스': 354,\n",
       " '마을': 302,\n",
       " '철길': 282,\n",
       " '맛집': 250,\n",
       " '근대': 233,\n",
       " '경암동': 195,\n",
       " '카페': 181,\n",
       " '당일치기': 160,\n",
       " '선유': 151,\n",
       " '성당': 149,\n",
       " '사진관': 149}"
      ]
     },
     "execution_count": 20,
     "metadata": {},
     "output_type": "execute_result"
    }
   ],
   "source": [
    "# 불필요 용어들 제거\n",
    "\n",
    "del top_nouns['군산']\n",
    "del top_nouns['여행']\n",
    "del top_nouns['박']\n",
    "del top_nouns['곳']\n",
    "\n",
    "top_nouns"
   ]
  },
  {
   "cell_type": "code",
   "execution_count": 21,
   "id": "14dbd689",
   "metadata": {},
   "outputs": [
    {
     "data": {
      "text/plain": [
       "{0: '코스',\n",
       " 1: '마을',\n",
       " 2: '철길',\n",
       " 3: '맛집',\n",
       " 4: '근대',\n",
       " 5: '경암동',\n",
       " 6: '카페',\n",
       " 7: '당일치기',\n",
       " 8: '선유',\n",
       " 9: '성당',\n",
       " 10: '사진관'}"
      ]
     },
     "execution_count": 21,
     "metadata": {},
     "output_type": "execute_result"
    }
   ],
   "source": [
    "# 상위 단어에 대해 id 적용\n",
    "word2id = {w: i for i, w in enumerate(top_nouns.keys())}\n",
    "word2id\n",
    "\n",
    "id2word = {i: w for i, w in enumerate(top_nouns.keys())}\n",
    "id2word"
   ]
  },
  {
   "cell_type": "code",
   "execution_count": 23,
   "id": "a50784d1",
   "metadata": {},
   "outputs": [
    {
     "data": {
      "image/png": "[encoded data removed]",
      "text/plain": [
       "<Figure size 648x648 with 1 Axes>"
      ]
     },
     "metadata": {},
     "output_type": "display_data"
    }
   ],
   "source": [
    "import networkx as nx\n",
    "import matplotlib.pyplot as plt\n",
    "from scipy.sparse import random\n",
    "\n",
    "# font\n",
    "from matplotlib import font_manager, rc\n",
    "\n",
    "font_name = font_manager.FontProperties(fname=\"c:/Windows/Fonts/malgun.ttf\").get_name()\n",
    "rc('font', family=font_name)\n",
    "#\n",
    "import seaborn as sns\n",
    "\n",
    "sns.set(rc = {'figure.figsize':(9,9)})\n",
    "plt.rc('font', family=font_name)\n",
    "\n",
    "\n",
    "\n",
    "graph = nx.Graph()\n",
    "graph.add_node('군산 여행')\n",
    "#graph.add_nodes_from(id2word[i])\n",
    "\n",
    "\n",
    "for i in range(0,11):\n",
    "    graph.add_edge('군산 여행',id2word[i], weight=(top_nouns[id2word[i]])/50)\n",
    "\n",
    "\n",
    "# Choose a layout to visualize graph\n",
    "pos = nx.spring_layout(graph)\n",
    "edges = graph.edges()\n",
    "\n",
    "options = {\n",
    "    'node_size':2500, # 원의 크기\n",
    "}\n",
    "\n",
    "nx.draw_networkx_nodes(graph, pos=pos, node_color='lightblue', **options)# nodelist=nodes, node_color='c')\n",
    "nx.draw_networkx_labels(graph, pos=pos, font_family=font_name)\n",
    "\n",
    "for edge in graph.edges(data='weight'):\n",
    "    nx.draw_networkx_edges(graph, pos, edgelist=[edge], width=edge[2])\n",
    "    \n",
    "plt.rcParams[\"figure.figsize\"] = (10,10)\n",
    "plt.show()\n",
    "\n",
    "\n"
   ]
  },
  {
   "cell_type": "code",
   "execution_count": null,
   "id": "37f554e8",
   "metadata": {},
   "outputs": [],
   "source": []
  }
 ],
 "metadata": {
  "kernelspec": {
   "display_name": "Python 3",
   "language": "python",
   "name": "python3"
  },
  "language_info": {
   "codemirror_mode": {
    "name": "ipython",
    "version": 3
   },
   "file_extension": ".py",
   "mimetype": "text/x-python",
   "name": "python",
   "nbconvert_exporter": "python",
   "pygments_lexer": "ipython3",
   "version": "3.8.8"
  }
 },
 "nbformat": 4,
 "nbformat_minor": 5
}
